{
 "cells": [
  {
   "cell_type": "code",
   "execution_count": 1,
   "metadata": {},
   "outputs": [
    {
     "data": {
      "text/html": [
       "<div>\n",
       "<style scoped>\n",
       "    .dataframe tbody tr th:only-of-type {\n",
       "        vertical-align: middle;\n",
       "    }\n",
       "\n",
       "    .dataframe tbody tr th {\n",
       "        vertical-align: top;\n",
       "    }\n",
       "\n",
       "    .dataframe thead th {\n",
       "        text-align: right;\n",
       "    }\n",
       "</style>\n",
       "<table border=\"1\" class=\"dataframe\">\n",
       "  <thead>\n",
       "    <tr style=\"text-align: right;\">\n",
       "      <th></th>\n",
       "      <th>continue_drop</th>\n",
       "      <th>student_id</th>\n",
       "      <th>gender</th>\n",
       "      <th>caste</th>\n",
       "      <th>mathematics_marks</th>\n",
       "      <th>english_marks</th>\n",
       "      <th>science_marks</th>\n",
       "      <th>science_teacher</th>\n",
       "      <th>languages_teacher</th>\n",
       "      <th>guardian</th>\n",
       "      <th>internet</th>\n",
       "      <th>school_id</th>\n",
       "      <th>total_students</th>\n",
       "      <th>total_toilets</th>\n",
       "      <th>establishment_year</th>\n",
       "    </tr>\n",
       "  </thead>\n",
       "  <tbody>\n",
       "    <tr>\n",
       "      <th>0</th>\n",
       "      <td>0</td>\n",
       "      <td>s00001</td>\n",
       "      <td>2</td>\n",
       "      <td>3</td>\n",
       "      <td>0.409</td>\n",
       "      <td>0.514</td>\n",
       "      <td>0.409</td>\n",
       "      <td>6</td>\n",
       "      <td>0</td>\n",
       "      <td>2</td>\n",
       "      <td>1</td>\n",
       "      <td>310</td>\n",
       "      <td>262</td>\n",
       "      <td>28.0</td>\n",
       "      <td>1985.0</td>\n",
       "    </tr>\n",
       "    <tr>\n",
       "      <th>1</th>\n",
       "      <td>0</td>\n",
       "      <td>s00002</td>\n",
       "      <td>2</td>\n",
       "      <td>2</td>\n",
       "      <td>0.290</td>\n",
       "      <td>0.512</td>\n",
       "      <td>0.290</td>\n",
       "      <td>4</td>\n",
       "      <td>7</td>\n",
       "      <td>2</td>\n",
       "      <td>1</td>\n",
       "      <td>328</td>\n",
       "      <td>356</td>\n",
       "      <td>14.0</td>\n",
       "      <td>1943.0</td>\n",
       "    </tr>\n",
       "    <tr>\n",
       "      <th>2</th>\n",
       "      <td>0</td>\n",
       "      <td>s00003</td>\n",
       "      <td>2</td>\n",
       "      <td>1</td>\n",
       "      <td>0.602</td>\n",
       "      <td>0.666</td>\n",
       "      <td>0.602</td>\n",
       "      <td>4</td>\n",
       "      <td>2</td>\n",
       "      <td>2</td>\n",
       "      <td>0</td>\n",
       "      <td>322</td>\n",
       "      <td>179</td>\n",
       "      <td>8.0</td>\n",
       "      <td>1955.0</td>\n",
       "    </tr>\n",
       "    <tr>\n",
       "      <th>3</th>\n",
       "      <td>0</td>\n",
       "      <td>s00004</td>\n",
       "      <td>2</td>\n",
       "      <td>2</td>\n",
       "      <td>0.378</td>\n",
       "      <td>0.526</td>\n",
       "      <td>0.378</td>\n",
       "      <td>8</td>\n",
       "      <td>7</td>\n",
       "      <td>2</td>\n",
       "      <td>1</td>\n",
       "      <td>305</td>\n",
       "      <td>354</td>\n",
       "      <td>86.0</td>\n",
       "      <td>1986.0</td>\n",
       "    </tr>\n",
       "    <tr>\n",
       "      <th>4</th>\n",
       "      <td>0</td>\n",
       "      <td>s00005</td>\n",
       "      <td>2</td>\n",
       "      <td>1</td>\n",
       "      <td>0.536</td>\n",
       "      <td>0.614</td>\n",
       "      <td>0.536</td>\n",
       "      <td>9</td>\n",
       "      <td>4</td>\n",
       "      <td>0</td>\n",
       "      <td>1</td>\n",
       "      <td>360</td>\n",
       "      <td>273</td>\n",
       "      <td>2.0</td>\n",
       "      <td>1995.0</td>\n",
       "    </tr>\n",
       "  </tbody>\n",
       "</table>\n",
       "</div>"
      ],
      "text/plain": [
       "   continue_drop student_id  gender  caste  mathematics_marks  english_marks  \\\n",
       "0              0     s00001       2      3              0.409          0.514   \n",
       "1              0     s00002       2      2              0.290          0.512   \n",
       "2              0     s00003       2      1              0.602          0.666   \n",
       "3              0     s00004       2      2              0.378          0.526   \n",
       "4              0     s00005       2      1              0.536          0.614   \n",
       "\n",
       "   science_marks  science_teacher  languages_teacher  guardian  internet  \\\n",
       "0          0.409                6                  0         2         1   \n",
       "1          0.290                4                  7         2         1   \n",
       "2          0.602                4                  2         2         0   \n",
       "3          0.378                8                  7         2         1   \n",
       "4          0.536                9                  4         0         1   \n",
       "\n",
       "   school_id  total_students  total_toilets  establishment_year  \n",
       "0        310             262           28.0              1985.0  \n",
       "1        328             356           14.0              1943.0  \n",
       "2        322             179            8.0              1955.0  \n",
       "3        305             354           86.0              1986.0  \n",
       "4        360             273            2.0              1995.0  "
      ]
     },
     "execution_count": 1,
     "metadata": {},
     "output_type": "execute_result"
    }
   ],
   "source": [
    "import pandas as pd\n",
    "import numpy as np\n",
    "df = pd.read_csv('modstudent.csv')\n",
    "df.head()"
   ]
  },
  {
   "cell_type": "code",
   "execution_count": 2,
   "metadata": {},
   "outputs": [
    {
     "data": {
      "text/plain": [
       "Index(['continue_drop', 'student_id', 'gender', 'caste', 'mathematics_marks',\n",
       "       'english_marks', 'science_marks', 'science_teacher',\n",
       "       'languages_teacher', 'guardian', 'internet', 'school_id',\n",
       "       'total_students', 'total_toilets', 'establishment_year'],\n",
       "      dtype='object')"
      ]
     },
     "execution_count": 2,
     "metadata": {},
     "output_type": "execute_result"
    }
   ],
   "source": [
    "df.columns"
   ]
  },
  {
   "cell_type": "code",
   "execution_count": 3,
   "metadata": {},
   "outputs": [],
   "source": [
    "from tensorflow import keras\n",
    "from tensorflow.keras.datasets import mnist\n",
    "from tensorflow.keras.models import Sequential\n",
    "from tensorflow.keras.layers import Dense, Dropout\n",
    "from tensorflow.keras.optimizers import RMSprop"
   ]
  },
  {
   "cell_type": "code",
   "execution_count": 4,
   "metadata": {},
   "outputs": [
    {
     "data": {
      "text/plain": [
       "(18762, 13)"
      ]
     },
     "execution_count": 4,
     "metadata": {},
     "output_type": "execute_result"
    }
   ],
   "source": [
    "X = df[[ 'gender', 'caste', 'mathematics_marks','english_marks', 'science_marks', 'science_teacher','languages_teacher', 'guardian', 'internet', 'school_id','total_students', 'total_toilets', 'establishment_year']]\n",
    "y=df['continue_drop']\n",
    "X.shape"
   ]
  },
  {
   "cell_type": "code",
   "execution_count": 5,
   "metadata": {},
   "outputs": [
    {
     "data": {
      "text/plain": [
       "(18762, 13)"
      ]
     },
     "execution_count": 5,
     "metadata": {},
     "output_type": "execute_result"
    }
   ],
   "source": [
    "from sklearn import preprocessing\n",
    "X=preprocessing.normalize(X)\n",
    "X.shape"
   ]
  },
  {
   "cell_type": "code",
   "execution_count": 11,
   "metadata": {},
   "outputs": [],
   "source": [
    "from sklearn.model_selection import train_test_split\n",
    "X_train, X_test, y_train, y_test = train_test_split(X,y,test_size=0.30)#test and train division"
   ]
  },
  {
   "cell_type": "code",
   "execution_count": 12,
   "metadata": {},
   "outputs": [],
   "source": [
    "import tensorflow.compat.v1 as tf"
   ]
  },
  {
   "cell_type": "code",
   "execution_count": 13,
   "metadata": {},
   "outputs": [],
   "source": [
    "train_labels = keras.utils.to_categorical(y_train, 2)\n",
    "test_labels = keras.utils.to_categorical(y_test, 2)"
   ]
  },
  {
   "cell_type": "code",
   "execution_count": 14,
   "metadata": {},
   "outputs": [],
   "source": [
    "model = Sequential()\n",
    "model.add(Dense(200, activation='relu', input_shape=(13,)))\n",
    "model.add(Dense(10, activation='relu'))\n",
    "model.add(Dropout(0.2))\n",
    "model.add(Dense(2, activation='sigmoid'))"
   ]
  },
  {
   "cell_type": "code",
   "execution_count": 15,
   "metadata": {},
   "outputs": [
    {
     "name": "stdout",
     "output_type": "stream",
     "text": [
      "Model: \"sequential\"\n",
      "_________________________________________________________________\n",
      "Layer (type)                 Output Shape              Param #   \n",
      "=================================================================\n",
      "dense (Dense)                (None, 200)               2800      \n",
      "_________________________________________________________________\n",
      "dense_1 (Dense)              (None, 10)                2010      \n",
      "_________________________________________________________________\n",
      "dropout (Dropout)            (None, 10)                0         \n",
      "_________________________________________________________________\n",
      "dense_2 (Dense)              (None, 2)                 22        \n",
      "=================================================================\n",
      "Total params: 4,832\n",
      "Trainable params: 4,832\n",
      "Non-trainable params: 0\n",
      "_________________________________________________________________\n"
     ]
    }
   ],
   "source": [
    "model.summary()"
   ]
  },
  {
   "cell_type": "code",
   "execution_count": 16,
   "metadata": {},
   "outputs": [],
   "source": [
    "model.compile(loss='sparse_categorical_crossentropy',\n",
    "              optimizer=RMSprop(),\n",
    "              metrics=['accuracy'])\n"
   ]
  },
  {
   "cell_type": "code",
   "execution_count": 23,
   "metadata": {},
   "outputs": [
    {
     "name": "stdout",
     "output_type": "stream",
     "text": [
      "Train on 13133 samples, validate on 5629 samples\n",
      "Epoch 1/100\n",
      "13133/13133 - 0s - loss: 0.1766 - accuracy: 0.9529 - val_loss: 0.1794 - val_accuracy: 0.9513\n",
      "Epoch 2/100\n",
      "13133/13133 - 1s - loss: 0.1767 - accuracy: 0.9529 - val_loss: 0.1792 - val_accuracy: 0.9513\n",
      "Epoch 3/100\n",
      "13133/13133 - 1s - loss: 0.1766 - accuracy: 0.9529 - val_loss: 0.1899 - val_accuracy: 0.9513\n",
      "Epoch 4/100\n",
      "13133/13133 - 1s - loss: 0.1775 - accuracy: 0.9529 - val_loss: 0.1802 - val_accuracy: 0.9513\n",
      "Epoch 5/100\n",
      "13133/13133 - 1s - loss: 0.1767 - accuracy: 0.9529 - val_loss: 0.1792 - val_accuracy: 0.9513\n",
      "Epoch 6/100\n",
      "13133/13133 - 1s - loss: 0.1770 - accuracy: 0.9529 - val_loss: 0.1789 - val_accuracy: 0.9513\n",
      "Epoch 7/100\n",
      "13133/13133 - 1s - loss: 0.1755 - accuracy: 0.9529 - val_loss: 0.1794 - val_accuracy: 0.9513\n",
      "Epoch 8/100\n",
      "13133/13133 - 1s - loss: 0.1769 - accuracy: 0.9529 - val_loss: 0.1796 - val_accuracy: 0.9513\n",
      "Epoch 9/100\n",
      "13133/13133 - 1s - loss: 0.1765 - accuracy: 0.9529 - val_loss: 0.1787 - val_accuracy: 0.9513\n",
      "Epoch 10/100\n",
      "13133/13133 - 1s - loss: 0.1767 - accuracy: 0.9529 - val_loss: 0.1814 - val_accuracy: 0.9513\n",
      "Epoch 11/100\n",
      "13133/13133 - 0s - loss: 0.1761 - accuracy: 0.9529 - val_loss: 0.1793 - val_accuracy: 0.9513\n",
      "Epoch 12/100\n",
      "13133/13133 - 0s - loss: 0.1765 - accuracy: 0.9529 - val_loss: 0.1803 - val_accuracy: 0.9513\n",
      "Epoch 13/100\n",
      "13133/13133 - 1s - loss: 0.1763 - accuracy: 0.9529 - val_loss: 0.1836 - val_accuracy: 0.9513\n",
      "Epoch 14/100\n",
      "13133/13133 - 1s - loss: 0.1764 - accuracy: 0.9529 - val_loss: 0.1801 - val_accuracy: 0.9513\n",
      "Epoch 15/100\n",
      "13133/13133 - 1s - loss: 0.1759 - accuracy: 0.9529 - val_loss: 0.2066 - val_accuracy: 0.9513\n",
      "Epoch 16/100\n",
      "13133/13133 - 1s - loss: 0.1760 - accuracy: 0.9529 - val_loss: 0.1817 - val_accuracy: 0.9513\n",
      "Epoch 17/100\n",
      "13133/13133 - 1s - loss: 0.1765 - accuracy: 0.9529 - val_loss: 0.1869 - val_accuracy: 0.9513\n",
      "Epoch 18/100\n",
      "13133/13133 - 1s - loss: 0.1760 - accuracy: 0.9529 - val_loss: 0.2054 - val_accuracy: 0.9513\n",
      "Epoch 19/100\n",
      "13133/13133 - 1s - loss: 0.1762 - accuracy: 0.9529 - val_loss: 0.1810 - val_accuracy: 0.9513\n",
      "Epoch 20/100\n",
      "13133/13133 - 1s - loss: 0.1769 - accuracy: 0.9529 - val_loss: 0.1815 - val_accuracy: 0.9513\n",
      "Epoch 21/100\n",
      "13133/13133 - 1s - loss: 0.1759 - accuracy: 0.9529 - val_loss: 0.2019 - val_accuracy: 0.9513\n",
      "Epoch 22/100\n",
      "13133/13133 - 1s - loss: 0.1763 - accuracy: 0.9529 - val_loss: 0.1875 - val_accuracy: 0.9513\n",
      "Epoch 23/100\n",
      "13133/13133 - 1s - loss: 0.1758 - accuracy: 0.9529 - val_loss: 0.1827 - val_accuracy: 0.9513\n",
      "Epoch 24/100\n",
      "13133/13133 - 1s - loss: 0.1770 - accuracy: 0.9529 - val_loss: 0.1784 - val_accuracy: 0.9513\n",
      "Epoch 25/100\n",
      "13133/13133 - 1s - loss: 0.1756 - accuracy: 0.9529 - val_loss: 0.1797 - val_accuracy: 0.9513\n",
      "Epoch 26/100\n",
      "13133/13133 - 1s - loss: 0.1762 - accuracy: 0.9529 - val_loss: 0.1918 - val_accuracy: 0.9513\n",
      "Epoch 27/100\n",
      "13133/13133 - 1s - loss: 0.1762 - accuracy: 0.9529 - val_loss: 0.1815 - val_accuracy: 0.9513\n",
      "Epoch 28/100\n",
      "13133/13133 - 1s - loss: 0.1762 - accuracy: 0.9529 - val_loss: 0.1903 - val_accuracy: 0.9513\n",
      "Epoch 29/100\n",
      "13133/13133 - 1s - loss: 0.1757 - accuracy: 0.9529 - val_loss: 0.1805 - val_accuracy: 0.9513\n",
      "Epoch 30/100\n",
      "13133/13133 - 1s - loss: 0.1745 - accuracy: 0.9529 - val_loss: 0.1796 - val_accuracy: 0.9513\n",
      "Epoch 31/100\n",
      "13133/13133 - 1s - loss: 0.1760 - accuracy: 0.9529 - val_loss: 0.1778 - val_accuracy: 0.9513\n",
      "Epoch 32/100\n",
      "13133/13133 - 1s - loss: 0.1755 - accuracy: 0.9529 - val_loss: 0.1782 - val_accuracy: 0.9513\n",
      "Epoch 33/100\n",
      "13133/13133 - 1s - loss: 0.1758 - accuracy: 0.9529 - val_loss: 0.1809 - val_accuracy: 0.9513\n",
      "Epoch 34/100\n",
      "13133/13133 - 1s - loss: 0.1753 - accuracy: 0.9529 - val_loss: 0.1802 - val_accuracy: 0.9513\n",
      "Epoch 35/100\n",
      "13133/13133 - 1s - loss: 0.1763 - accuracy: 0.9529 - val_loss: 0.1807 - val_accuracy: 0.9513\n",
      "Epoch 36/100\n",
      "13133/13133 - 1s - loss: 0.1754 - accuracy: 0.9529 - val_loss: 0.1802 - val_accuracy: 0.9513\n",
      "Epoch 37/100\n",
      "13133/13133 - 1s - loss: 0.1765 - accuracy: 0.9529 - val_loss: 0.1786 - val_accuracy: 0.9513\n",
      "Epoch 38/100\n",
      "13133/13133 - 1s - loss: 0.1761 - accuracy: 0.9529 - val_loss: 0.1904 - val_accuracy: 0.9513\n",
      "Epoch 39/100\n",
      "13133/13133 - 1s - loss: 0.1753 - accuracy: 0.9529 - val_loss: 0.1775 - val_accuracy: 0.9513\n",
      "Epoch 40/100\n",
      "13133/13133 - 0s - loss: 0.1762 - accuracy: 0.9529 - val_loss: 0.1807 - val_accuracy: 0.9513\n",
      "Epoch 41/100\n",
      "13133/13133 - 0s - loss: 0.1754 - accuracy: 0.9529 - val_loss: 0.1771 - val_accuracy: 0.9513\n",
      "Epoch 42/100\n",
      "13133/13133 - 0s - loss: 0.1752 - accuracy: 0.9529 - val_loss: 0.1789 - val_accuracy: 0.9513\n",
      "Epoch 43/100\n",
      "13133/13133 - 0s - loss: 0.1749 - accuracy: 0.9529 - val_loss: 0.1820 - val_accuracy: 0.9513\n",
      "Epoch 44/100\n",
      "13133/13133 - 0s - loss: 0.1762 - accuracy: 0.9529 - val_loss: 0.1799 - val_accuracy: 0.9513\n",
      "Epoch 45/100\n",
      "13133/13133 - 1s - loss: 0.1752 - accuracy: 0.9529 - val_loss: 0.1772 - val_accuracy: 0.9513\n",
      "Epoch 46/100\n",
      "13133/13133 - 1s - loss: 0.1771 - accuracy: 0.9529 - val_loss: 0.1789 - val_accuracy: 0.9513\n",
      "Epoch 47/100\n",
      "13133/13133 - 0s - loss: 0.1757 - accuracy: 0.9529 - val_loss: 0.1811 - val_accuracy: 0.9513\n",
      "Epoch 48/100\n",
      "13133/13133 - 0s - loss: 0.1752 - accuracy: 0.9529 - val_loss: 0.1778 - val_accuracy: 0.9513\n",
      "Epoch 49/100\n",
      "13133/13133 - 0s - loss: 0.1746 - accuracy: 0.9529 - val_loss: 0.1774 - val_accuracy: 0.9513\n",
      "Epoch 50/100\n",
      "13133/13133 - 0s - loss: 0.1753 - accuracy: 0.9529 - val_loss: 0.1772 - val_accuracy: 0.9513\n",
      "Epoch 51/100\n",
      "13133/13133 - 0s - loss: 0.1750 - accuracy: 0.9529 - val_loss: 0.1833 - val_accuracy: 0.9513\n",
      "Epoch 52/100\n",
      "13133/13133 - 0s - loss: 0.1760 - accuracy: 0.9529 - val_loss: 0.1846 - val_accuracy: 0.9513\n",
      "Epoch 53/100\n",
      "13133/13133 - 1s - loss: 0.1757 - accuracy: 0.9529 - val_loss: 0.1805 - val_accuracy: 0.9513\n",
      "Epoch 54/100\n",
      "13133/13133 - 1s - loss: 0.1752 - accuracy: 0.9529 - val_loss: 0.1865 - val_accuracy: 0.9513\n",
      "Epoch 55/100\n",
      "13133/13133 - 1s - loss: 0.1749 - accuracy: 0.9529 - val_loss: 0.1795 - val_accuracy: 0.9513\n",
      "Epoch 56/100\n",
      "13133/13133 - 1s - loss: 0.1747 - accuracy: 0.9529 - val_loss: 0.1930 - val_accuracy: 0.9513\n",
      "Epoch 57/100\n",
      "13133/13133 - 1s - loss: 0.1747 - accuracy: 0.9529 - val_loss: 0.1801 - val_accuracy: 0.9513\n",
      "Epoch 58/100\n",
      "13133/13133 - 1s - loss: 0.1749 - accuracy: 0.9529 - val_loss: 0.1837 - val_accuracy: 0.9513\n",
      "Epoch 59/100\n",
      "13133/13133 - 1s - loss: 0.1752 - accuracy: 0.9529 - val_loss: 0.1845 - val_accuracy: 0.9513\n",
      "Epoch 60/100\n",
      "13133/13133 - 1s - loss: 0.1752 - accuracy: 0.9529 - val_loss: 0.1877 - val_accuracy: 0.9513\n",
      "Epoch 61/100\n",
      "13133/13133 - 1s - loss: 0.1755 - accuracy: 0.9529 - val_loss: 0.1841 - val_accuracy: 0.9513\n",
      "Epoch 62/100\n",
      "13133/13133 - 1s - loss: 0.1761 - accuracy: 0.9529 - val_loss: 0.1824 - val_accuracy: 0.9513\n",
      "Epoch 63/100\n",
      "13133/13133 - 1s - loss: 0.1751 - accuracy: 0.9529 - val_loss: 0.1854 - val_accuracy: 0.9513\n",
      "Epoch 64/100\n",
      "13133/13133 - 1s - loss: 0.1757 - accuracy: 0.9529 - val_loss: 0.1815 - val_accuracy: 0.9513\n",
      "Epoch 65/100\n",
      "13133/13133 - 1s - loss: 0.1743 - accuracy: 0.9529 - val_loss: 0.1890 - val_accuracy: 0.9513\n",
      "Epoch 66/100\n",
      "13133/13133 - 1s - loss: 0.1758 - accuracy: 0.9529 - val_loss: 0.1802 - val_accuracy: 0.9513\n",
      "Epoch 67/100\n",
      "13133/13133 - 1s - loss: 0.1762 - accuracy: 0.9529 - val_loss: 0.1846 - val_accuracy: 0.9513\n",
      "Epoch 68/100\n",
      "13133/13133 - 1s - loss: 0.1755 - accuracy: 0.9529 - val_loss: 0.1801 - val_accuracy: 0.9513\n",
      "Epoch 69/100\n",
      "13133/13133 - 1s - loss: 0.1757 - accuracy: 0.9529 - val_loss: 0.1807 - val_accuracy: 0.9513\n",
      "Epoch 70/100\n",
      "13133/13133 - 1s - loss: 0.1753 - accuracy: 0.9529 - val_loss: 0.1772 - val_accuracy: 0.9513\n",
      "Epoch 71/100\n",
      "13133/13133 - 1s - loss: 0.1749 - accuracy: 0.9529 - val_loss: 0.1980 - val_accuracy: 0.9513\n",
      "Epoch 72/100\n",
      "13133/13133 - 1s - loss: 0.1751 - accuracy: 0.9529 - val_loss: 0.1798 - val_accuracy: 0.9513\n",
      "Epoch 73/100\n",
      "13133/13133 - 1s - loss: 0.1752 - accuracy: 0.9529 - val_loss: 0.1800 - val_accuracy: 0.9513\n",
      "Epoch 74/100\n",
      "13133/13133 - 1s - loss: 0.1747 - accuracy: 0.9529 - val_loss: 0.1760 - val_accuracy: 0.9513\n",
      "Epoch 75/100\n",
      "13133/13133 - 1s - loss: 0.1749 - accuracy: 0.9529 - val_loss: 0.1766 - val_accuracy: 0.9513\n",
      "Epoch 76/100\n",
      "13133/13133 - 1s - loss: 0.1750 - accuracy: 0.9529 - val_loss: 0.1840 - val_accuracy: 0.9513\n",
      "Epoch 77/100\n",
      "13133/13133 - 1s - loss: 0.1748 - accuracy: 0.9529 - val_loss: 0.2033 - val_accuracy: 0.9513\n"
     ]
    },
    {
     "name": "stdout",
     "output_type": "stream",
     "text": [
      "Epoch 78/100\n",
      "13133/13133 - 1s - loss: 0.1748 - accuracy: 0.9529 - val_loss: 0.1784 - val_accuracy: 0.9513\n",
      "Epoch 79/100\n",
      "13133/13133 - 1s - loss: 0.1748 - accuracy: 0.9529 - val_loss: 0.1783 - val_accuracy: 0.9513\n",
      "Epoch 80/100\n",
      "13133/13133 - 1s - loss: 0.1744 - accuracy: 0.9529 - val_loss: 0.2670 - val_accuracy: 0.9513\n",
      "Epoch 81/100\n",
      "13133/13133 - 1s - loss: 0.1755 - accuracy: 0.9529 - val_loss: 0.1783 - val_accuracy: 0.9513\n",
      "Epoch 82/100\n",
      "13133/13133 - 1s - loss: 0.1747 - accuracy: 0.9529 - val_loss: 0.1788 - val_accuracy: 0.9513\n",
      "Epoch 83/100\n",
      "13133/13133 - 1s - loss: 0.1748 - accuracy: 0.9529 - val_loss: 0.1772 - val_accuracy: 0.9513\n",
      "Epoch 84/100\n",
      "13133/13133 - 1s - loss: 0.1757 - accuracy: 0.9529 - val_loss: 0.1790 - val_accuracy: 0.9513\n",
      "Epoch 85/100\n",
      "13133/13133 - 1s - loss: 0.1752 - accuracy: 0.9529 - val_loss: 0.1755 - val_accuracy: 0.9513\n",
      "Epoch 86/100\n",
      "13133/13133 - 1s - loss: 0.1751 - accuracy: 0.9529 - val_loss: 0.1797 - val_accuracy: 0.9513\n",
      "Epoch 87/100\n",
      "13133/13133 - 1s - loss: 0.1750 - accuracy: 0.9529 - val_loss: 0.1767 - val_accuracy: 0.9513\n",
      "Epoch 88/100\n",
      "13133/13133 - 1s - loss: 0.1752 - accuracy: 0.9529 - val_loss: 0.1767 - val_accuracy: 0.9513\n",
      "Epoch 89/100\n",
      "13133/13133 - 1s - loss: 0.1751 - accuracy: 0.9529 - val_loss: 0.1805 - val_accuracy: 0.9513\n",
      "Epoch 90/100\n",
      "13133/13133 - 1s - loss: 0.1744 - accuracy: 0.9529 - val_loss: 0.1787 - val_accuracy: 0.9513\n",
      "Epoch 91/100\n",
      "13133/13133 - 1s - loss: 0.1761 - accuracy: 0.9529 - val_loss: 0.1958 - val_accuracy: 0.9513\n",
      "Epoch 92/100\n",
      "13133/13133 - 1s - loss: 0.1750 - accuracy: 0.9529 - val_loss: 0.1790 - val_accuracy: 0.9513\n",
      "Epoch 93/100\n",
      "13133/13133 - 1s - loss: 0.1760 - accuracy: 0.9529 - val_loss: 0.1859 - val_accuracy: 0.9513\n",
      "Epoch 94/100\n",
      "13133/13133 - 1s - loss: 0.1755 - accuracy: 0.9529 - val_loss: 0.1808 - val_accuracy: 0.9513\n",
      "Epoch 95/100\n",
      "13133/13133 - 1s - loss: 0.1750 - accuracy: 0.9529 - val_loss: 0.1763 - val_accuracy: 0.9513\n",
      "Epoch 96/100\n",
      "13133/13133 - 1s - loss: 0.1744 - accuracy: 0.9529 - val_loss: 0.1775 - val_accuracy: 0.9513\n",
      "Epoch 97/100\n",
      "13133/13133 - 1s - loss: 0.1735 - accuracy: 0.9529 - val_loss: 0.1814 - val_accuracy: 0.9513\n",
      "Epoch 98/100\n",
      "13133/13133 - 1s - loss: 0.1747 - accuracy: 0.9529 - val_loss: 0.1789 - val_accuracy: 0.9513\n",
      "Epoch 99/100\n",
      "13133/13133 - 1s - loss: 0.1751 - accuracy: 0.9529 - val_loss: 0.1860 - val_accuracy: 0.9513\n",
      "Epoch 100/100\n",
      "13133/13133 - 1s - loss: 0.1741 - accuracy: 0.9529 - val_loss: 0.1789 - val_accuracy: 0.9513\n"
     ]
    }
   ],
   "source": [
    "history = model.fit(X_train, y_train,\n",
    "                    batch_size=100,\n",
    "                    epochs=100,\n",
    "                    verbose=2,\n",
    "                    validation_data=(X_test, y_test))"
   ]
  },
  {
   "cell_type": "code",
   "execution_count": 24,
   "metadata": {},
   "outputs": [
    {
     "name": "stdout",
     "output_type": "stream",
     "text": [
      "Test loss: 17.88508820968425\n",
      "Test accuracy: 95.13235092163086\n"
     ]
    }
   ],
   "source": [
    "score = model.evaluate(X_test, y_test, verbose=0)\n",
    "print('Test loss:', 100*score[0])\n",
    "print('Test accuracy:',100* score[1])"
   ]
  },
  {
   "cell_type": "code",
   "execution_count": null,
   "metadata": {},
   "outputs": [],
   "source": []
  }
 ],
 "metadata": {
  "kernelspec": {
   "display_name": "Python 3",
   "language": "python",
   "name": "python3"
  },
  "language_info": {
   "codemirror_mode": {
    "name": "ipython",
    "version": 3
   },
   "file_extension": ".py",
   "mimetype": "text/x-python",
   "name": "python",
   "nbconvert_exporter": "python",
   "pygments_lexer": "ipython3",
   "version": "3.8.3"
  }
 },
 "nbformat": 4,
 "nbformat_minor": 2
}
