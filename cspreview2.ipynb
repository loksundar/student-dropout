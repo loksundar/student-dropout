{
 "cells": [
  {
   "cell_type": "code",
   "execution_count": 4,
   "metadata": {},
   "outputs": [],
   "source": [
    "from sklearn import tree\n",
    "from sklearn.ensemble import RandomForestClassifier\n",
    "from IPython.display import Image  \n",
    " \n",
    "\n",
    "from sklearn import metrics\n",
    "from sklearn.model_selection import ShuffleSplit\n",
    "from sklearn.model_selection import train_test_split\n",
    "#X_train, X_test, y_train, y_test = train_test_split(X,y,test_size=0.30)#test and train division\n",
    "import statsmodels.api as sm\n",
    "from sklearn.preprocessing import StandardScaler\n",
    "import pandas as pd\n",
    "import numpy as np\n",
    "from sklearn.model_selection import train_test_split\n",
    "from sklearn.metrics import accuracy_score\n",
    "from sklearn.neighbors import KNeighborsClassifier\n",
    "from sklearn.ensemble import RandomForestClassifier\n",
    "from xgboost import XGBClassifier\n",
    "\n",
    "from sklearn.neural_network import MLPClassifier"
   ]
  },
  {
   "cell_type": "code",
   "execution_count": 5,
   "metadata": {},
   "outputs": [
    {
     "data": {
      "text/html": [
       "<div>\n",
       "<style scoped>\n",
       "    .dataframe tbody tr th:only-of-type {\n",
       "        vertical-align: middle;\n",
       "    }\n",
       "\n",
       "    .dataframe tbody tr th {\n",
       "        vertical-align: top;\n",
       "    }\n",
       "\n",
       "    .dataframe thead th {\n",
       "        text-align: right;\n",
       "    }\n",
       "</style>\n",
       "<table border=\"1\" class=\"dataframe\">\n",
       "  <thead>\n",
       "    <tr style=\"text-align: right;\">\n",
       "      <th></th>\n",
       "      <th>continue_drop</th>\n",
       "      <th>student_id</th>\n",
       "      <th>gender</th>\n",
       "      <th>caste</th>\n",
       "      <th>mathematics_marks</th>\n",
       "      <th>english_marks</th>\n",
       "      <th>science_marks</th>\n",
       "      <th>science_teacher</th>\n",
       "      <th>languages_teacher</th>\n",
       "      <th>guardian</th>\n",
       "      <th>internet</th>\n",
       "      <th>school_id</th>\n",
       "      <th>total_students</th>\n",
       "      <th>total_toilets</th>\n",
       "      <th>establishment_year</th>\n",
       "    </tr>\n",
       "  </thead>\n",
       "  <tbody>\n",
       "    <tr>\n",
       "      <th>0</th>\n",
       "      <td>0</td>\n",
       "      <td>s00001</td>\n",
       "      <td>2</td>\n",
       "      <td>3</td>\n",
       "      <td>0.409</td>\n",
       "      <td>0.514</td>\n",
       "      <td>0.409</td>\n",
       "      <td>6</td>\n",
       "      <td>0</td>\n",
       "      <td>2</td>\n",
       "      <td>1</td>\n",
       "      <td>310</td>\n",
       "      <td>262</td>\n",
       "      <td>28.0</td>\n",
       "      <td>1985.0</td>\n",
       "    </tr>\n",
       "    <tr>\n",
       "      <th>1</th>\n",
       "      <td>0</td>\n",
       "      <td>s00002</td>\n",
       "      <td>2</td>\n",
       "      <td>2</td>\n",
       "      <td>0.290</td>\n",
       "      <td>0.512</td>\n",
       "      <td>0.290</td>\n",
       "      <td>4</td>\n",
       "      <td>7</td>\n",
       "      <td>2</td>\n",
       "      <td>1</td>\n",
       "      <td>328</td>\n",
       "      <td>356</td>\n",
       "      <td>14.0</td>\n",
       "      <td>1943.0</td>\n",
       "    </tr>\n",
       "    <tr>\n",
       "      <th>2</th>\n",
       "      <td>0</td>\n",
       "      <td>s00003</td>\n",
       "      <td>2</td>\n",
       "      <td>1</td>\n",
       "      <td>0.602</td>\n",
       "      <td>0.666</td>\n",
       "      <td>0.602</td>\n",
       "      <td>4</td>\n",
       "      <td>2</td>\n",
       "      <td>2</td>\n",
       "      <td>0</td>\n",
       "      <td>322</td>\n",
       "      <td>179</td>\n",
       "      <td>8.0</td>\n",
       "      <td>1955.0</td>\n",
       "    </tr>\n",
       "    <tr>\n",
       "      <th>3</th>\n",
       "      <td>0</td>\n",
       "      <td>s00004</td>\n",
       "      <td>2</td>\n",
       "      <td>2</td>\n",
       "      <td>0.378</td>\n",
       "      <td>0.526</td>\n",
       "      <td>0.378</td>\n",
       "      <td>8</td>\n",
       "      <td>7</td>\n",
       "      <td>2</td>\n",
       "      <td>1</td>\n",
       "      <td>305</td>\n",
       "      <td>354</td>\n",
       "      <td>86.0</td>\n",
       "      <td>1986.0</td>\n",
       "    </tr>\n",
       "    <tr>\n",
       "      <th>4</th>\n",
       "      <td>0</td>\n",
       "      <td>s00005</td>\n",
       "      <td>2</td>\n",
       "      <td>1</td>\n",
       "      <td>0.536</td>\n",
       "      <td>0.614</td>\n",
       "      <td>0.536</td>\n",
       "      <td>9</td>\n",
       "      <td>4</td>\n",
       "      <td>0</td>\n",
       "      <td>1</td>\n",
       "      <td>360</td>\n",
       "      <td>273</td>\n",
       "      <td>2.0</td>\n",
       "      <td>1995.0</td>\n",
       "    </tr>\n",
       "  </tbody>\n",
       "</table>\n",
       "</div>"
      ],
      "text/plain": [
       "   continue_drop student_id  gender  caste  mathematics_marks  english_marks  \\\n",
       "0              0     s00001       2      3              0.409          0.514   \n",
       "1              0     s00002       2      2              0.290          0.512   \n",
       "2              0     s00003       2      1              0.602          0.666   \n",
       "3              0     s00004       2      2              0.378          0.526   \n",
       "4              0     s00005       2      1              0.536          0.614   \n",
       "\n",
       "   science_marks  science_teacher  languages_teacher  guardian  internet  \\\n",
       "0          0.409                6                  0         2         1   \n",
       "1          0.290                4                  7         2         1   \n",
       "2          0.602                4                  2         2         0   \n",
       "3          0.378                8                  7         2         1   \n",
       "4          0.536                9                  4         0         1   \n",
       "\n",
       "   school_id  total_students  total_toilets  establishment_year  \n",
       "0        310             262           28.0              1985.0  \n",
       "1        328             356           14.0              1943.0  \n",
       "2        322             179            8.0              1955.0  \n",
       "3        305             354           86.0              1986.0  \n",
       "4        360             273            2.0              1995.0  "
      ]
     },
     "execution_count": 5,
     "metadata": {},
     "output_type": "execute_result"
    }
   ],
   "source": [
    "df = pd.read_csv('modstudent.csv')\n",
    "df.head()"
   ]
  },
  {
   "cell_type": "code",
   "execution_count": 6,
   "metadata": {},
   "outputs": [
    {
     "data": {
      "text/html": [
       "<table class=\"simpletable\">\n",
       "<caption>OLS Regression Results</caption>\n",
       "<tr>\n",
       "  <th>Dep. Variable:</th>      <td>continue_drop</td>  <th>  R-squared (uncentered):</th>      <td>   0.077</td> \n",
       "</tr>\n",
       "<tr>\n",
       "  <th>Model:</th>                   <td>OLS</td>       <th>  Adj. R-squared (uncentered):</th> <td>   0.076</td> \n",
       "</tr>\n",
       "<tr>\n",
       "  <th>Method:</th>             <td>Least Squares</td>  <th>  F-statistic:       </th>          <td>   142.1</td> \n",
       "</tr>\n",
       "<tr>\n",
       "  <th>Date:</th>             <td>Mon, 28 Aug 2023</td> <th>  Prob (F-statistic):</th>          <td>1.08e-315</td>\n",
       "</tr>\n",
       "<tr>\n",
       "  <th>Time:</th>                 <td>23:48:03</td>     <th>  Log-Likelihood:    </th>          <td>  2704.9</td> \n",
       "</tr>\n",
       "<tr>\n",
       "  <th>No. Observations:</th>      <td> 18762</td>      <th>  AIC:               </th>          <td>  -5388.</td> \n",
       "</tr>\n",
       "<tr>\n",
       "  <th>Df Residuals:</th>          <td> 18751</td>      <th>  BIC:               </th>          <td>  -5302.</td> \n",
       "</tr>\n",
       "<tr>\n",
       "  <th>Df Model:</th>              <td>    11</td>      <th>                     </th>              <td> </td>    \n",
       "</tr>\n",
       "<tr>\n",
       "  <th>Covariance Type:</th>      <td>nonrobust</td>    <th>                     </th>              <td> </td>    \n",
       "</tr>\n",
       "</table>\n",
       "<table class=\"simpletable\">\n",
       "<tr>\n",
       "           <td></td>             <th>coef</th>     <th>std err</th>      <th>t</th>      <th>P>|t|</th>  <th>[0.025</th>    <th>0.975]</th>  \n",
       "</tr>\n",
       "<tr>\n",
       "  <th>gender</th>             <td>    0.0107</td> <td>    0.003</td> <td>    3.281</td> <td> 0.001</td> <td>    0.004</td> <td>    0.017</td>\n",
       "</tr>\n",
       "<tr>\n",
       "  <th>caste</th>              <td>   -0.0129</td> <td>    0.002</td> <td>   -6.553</td> <td> 0.000</td> <td>   -0.017</td> <td>   -0.009</td>\n",
       "</tr>\n",
       "<tr>\n",
       "  <th>mathematics_marks</th>  <td>   -0.0319</td> <td>    0.005</td> <td>   -6.977</td> <td> 0.000</td> <td>   -0.041</td> <td>   -0.023</td>\n",
       "</tr>\n",
       "<tr>\n",
       "  <th>english_marks</th>      <td>    0.1162</td> <td>    0.011</td> <td>   10.412</td> <td> 0.000</td> <td>    0.094</td> <td>    0.138</td>\n",
       "</tr>\n",
       "<tr>\n",
       "  <th>science_marks</th>      <td>   -0.0319</td> <td>    0.005</td> <td>   -6.977</td> <td> 0.000</td> <td>   -0.041</td> <td>   -0.023</td>\n",
       "</tr>\n",
       "<tr>\n",
       "  <th>science_teacher</th>    <td>    0.0109</td> <td>    0.001</td> <td>   17.364</td> <td> 0.000</td> <td>    0.010</td> <td>    0.012</td>\n",
       "</tr>\n",
       "<tr>\n",
       "  <th>languages_teacher</th>  <td>   -0.0014</td> <td>    0.001</td> <td>   -2.624</td> <td> 0.009</td> <td>   -0.002</td> <td>   -0.000</td>\n",
       "</tr>\n",
       "<tr>\n",
       "  <th>guardian</th>           <td>   -0.0026</td> <td>    0.003</td> <td>   -0.995</td> <td> 0.320</td> <td>   -0.008</td> <td>    0.003</td>\n",
       "</tr>\n",
       "<tr>\n",
       "  <th>internet</th>           <td>    0.0347</td> <td>    0.004</td> <td>    8.045</td> <td> 0.000</td> <td>    0.026</td> <td>    0.043</td>\n",
       "</tr>\n",
       "<tr>\n",
       "  <th>total_students</th>     <td>-2.762e-06</td> <td> 1.22e-05</td> <td>   -0.226</td> <td> 0.821</td> <td>-2.67e-05</td> <td> 2.12e-05</td>\n",
       "</tr>\n",
       "<tr>\n",
       "  <th>total_toilets</th>      <td>  6.28e-05</td> <td> 7.56e-05</td> <td>    0.831</td> <td> 0.406</td> <td>-8.53e-05</td> <td>    0.000</td>\n",
       "</tr>\n",
       "<tr>\n",
       "  <th>establishment_year</th> <td>-1.759e-05</td> <td> 5.62e-06</td> <td>   -3.131</td> <td> 0.002</td> <td>-2.86e-05</td> <td>-6.58e-06</td>\n",
       "</tr>\n",
       "</table>\n",
       "<table class=\"simpletable\">\n",
       "<tr>\n",
       "  <th>Omnibus:</th>       <td>15127.354</td> <th>  Durbin-Watson:     </th>  <td>   2.079</td> \n",
       "</tr>\n",
       "<tr>\n",
       "  <th>Prob(Omnibus):</th>  <td> 0.000</td>   <th>  Jarque-Bera (JB):  </th> <td>228837.695</td>\n",
       "</tr>\n",
       "<tr>\n",
       "  <th>Skew:</th>           <td> 4.052</td>   <th>  Prob(JB):          </th>  <td>    0.00</td> \n",
       "</tr>\n",
       "<tr>\n",
       "  <th>Kurtosis:</th>       <td>18.068</td>   <th>  Cond. No.          </th>  <td>3.55e+19</td> \n",
       "</tr>\n",
       "</table><br/><br/>Notes:<br/>[1] R² is computed without centering (uncentered) since the model does not contain a constant.<br/>[2] Standard Errors assume that the covariance matrix of the errors is correctly specified.<br/>[3] The smallest eigenvalue is 5.72e-29. This might indicate that there are<br/>strong multicollinearity problems or that the design matrix is singular."
      ],
      "text/latex": [
       "\\begin{center}\n",
       "\\begin{tabular}{lclc}\n",
       "\\toprule\n",
       "\\textbf{Dep. Variable:}      &  continue\\_drop  & \\textbf{  R-squared (uncentered):}      &     0.077   \\\\\n",
       "\\textbf{Model:}              &       OLS        & \\textbf{  Adj. R-squared (uncentered):} &     0.076   \\\\\n",
       "\\textbf{Method:}             &  Least Squares   & \\textbf{  F-statistic:       }          &     142.1   \\\\\n",
       "\\textbf{Date:}               & Mon, 28 Aug 2023 & \\textbf{  Prob (F-statistic):}          & 1.08e-315   \\\\\n",
       "\\textbf{Time:}               &     23:48:03     & \\textbf{  Log-Likelihood:    }          &    2704.9   \\\\\n",
       "\\textbf{No. Observations:}   &       18762      & \\textbf{  AIC:               }          &    -5388.   \\\\\n",
       "\\textbf{Df Residuals:}       &       18751      & \\textbf{  BIC:               }          &    -5302.   \\\\\n",
       "\\textbf{Df Model:}           &          11      & \\textbf{                     }          &             \\\\\n",
       "\\textbf{Covariance Type:}    &    nonrobust     & \\textbf{                     }          &             \\\\\n",
       "\\bottomrule\n",
       "\\end{tabular}\n",
       "\\begin{tabular}{lcccccc}\n",
       "                             & \\textbf{coef} & \\textbf{std err} & \\textbf{t} & \\textbf{P$> |$t$|$} & \\textbf{[0.025} & \\textbf{0.975]}  \\\\\n",
       "\\midrule\n",
       "\\textbf{gender}              &       0.0107  &        0.003     &     3.281  &         0.001        &        0.004    &        0.017     \\\\\n",
       "\\textbf{caste}               &      -0.0129  &        0.002     &    -6.553  &         0.000        &       -0.017    &       -0.009     \\\\\n",
       "\\textbf{mathematics\\_marks}  &      -0.0319  &        0.005     &    -6.977  &         0.000        &       -0.041    &       -0.023     \\\\\n",
       "\\textbf{english\\_marks}      &       0.1162  &        0.011     &    10.412  &         0.000        &        0.094    &        0.138     \\\\\n",
       "\\textbf{science\\_marks}      &      -0.0319  &        0.005     &    -6.977  &         0.000        &       -0.041    &       -0.023     \\\\\n",
       "\\textbf{science\\_teacher}    &       0.0109  &        0.001     &    17.364  &         0.000        &        0.010    &        0.012     \\\\\n",
       "\\textbf{languages\\_teacher}  &      -0.0014  &        0.001     &    -2.624  &         0.009        &       -0.002    &       -0.000     \\\\\n",
       "\\textbf{guardian}            &      -0.0026  &        0.003     &    -0.995  &         0.320        &       -0.008    &        0.003     \\\\\n",
       "\\textbf{internet}            &       0.0347  &        0.004     &     8.045  &         0.000        &        0.026    &        0.043     \\\\\n",
       "\\textbf{total\\_students}     &   -2.762e-06  &     1.22e-05     &    -0.226  &         0.821        &    -2.67e-05    &     2.12e-05     \\\\\n",
       "\\textbf{total\\_toilets}      &     6.28e-05  &     7.56e-05     &     0.831  &         0.406        &    -8.53e-05    &        0.000     \\\\\n",
       "\\textbf{establishment\\_year} &   -1.759e-05  &     5.62e-06     &    -3.131  &         0.002        &    -2.86e-05    &    -6.58e-06     \\\\\n",
       "\\bottomrule\n",
       "\\end{tabular}\n",
       "\\begin{tabular}{lclc}\n",
       "\\textbf{Omnibus:}       & 15127.354 & \\textbf{  Durbin-Watson:     } &     2.079   \\\\\n",
       "\\textbf{Prob(Omnibus):} &    0.000  & \\textbf{  Jarque-Bera (JB):  } & 228837.695  \\\\\n",
       "\\textbf{Skew:}          &    4.052  & \\textbf{  Prob(JB):          } &      0.00   \\\\\n",
       "\\textbf{Kurtosis:}      &   18.068  & \\textbf{  Cond. No.          } &  3.55e+19   \\\\\n",
       "\\bottomrule\n",
       "\\end{tabular}\n",
       "%\\caption{OLS Regression Results}\n",
       "\\end{center}\n",
       "\n",
       "Notes: \\newline\n",
       " [1] R² is computed without centering (uncentered) since the model does not contain a constant. \\newline\n",
       " [2] Standard Errors assume that the covariance matrix of the errors is correctly specified. \\newline\n",
       " [3] The smallest eigenvalue is 5.72e-29. This might indicate that there are \\newline\n",
       " strong multicollinearity problems or that the design matrix is singular."
      ],
      "text/plain": [
       "<class 'statsmodels.iolib.summary.Summary'>\n",
       "\"\"\"\n",
       "                                 OLS Regression Results                                \n",
       "=======================================================================================\n",
       "Dep. Variable:          continue_drop   R-squared (uncentered):                   0.077\n",
       "Model:                            OLS   Adj. R-squared (uncentered):              0.076\n",
       "Method:                 Least Squares   F-statistic:                              142.1\n",
       "Date:                Mon, 28 Aug 2023   Prob (F-statistic):                   1.08e-315\n",
       "Time:                        23:48:03   Log-Likelihood:                          2704.9\n",
       "No. Observations:               18762   AIC:                                     -5388.\n",
       "Df Residuals:                   18751   BIC:                                     -5302.\n",
       "Df Model:                          11                                                  \n",
       "Covariance Type:            nonrobust                                                  \n",
       "======================================================================================\n",
       "                         coef    std err          t      P>|t|      [0.025      0.975]\n",
       "--------------------------------------------------------------------------------------\n",
       "gender                 0.0107      0.003      3.281      0.001       0.004       0.017\n",
       "caste                 -0.0129      0.002     -6.553      0.000      -0.017      -0.009\n",
       "mathematics_marks     -0.0319      0.005     -6.977      0.000      -0.041      -0.023\n",
       "english_marks          0.1162      0.011     10.412      0.000       0.094       0.138\n",
       "science_marks         -0.0319      0.005     -6.977      0.000      -0.041      -0.023\n",
       "science_teacher        0.0109      0.001     17.364      0.000       0.010       0.012\n",
       "languages_teacher     -0.0014      0.001     -2.624      0.009      -0.002      -0.000\n",
       "guardian              -0.0026      0.003     -0.995      0.320      -0.008       0.003\n",
       "internet               0.0347      0.004      8.045      0.000       0.026       0.043\n",
       "total_students     -2.762e-06   1.22e-05     -0.226      0.821   -2.67e-05    2.12e-05\n",
       "total_toilets        6.28e-05   7.56e-05      0.831      0.406   -8.53e-05       0.000\n",
       "establishment_year -1.759e-05   5.62e-06     -3.131      0.002   -2.86e-05   -6.58e-06\n",
       "==============================================================================\n",
       "Omnibus:                    15127.354   Durbin-Watson:                   2.079\n",
       "Prob(Omnibus):                  0.000   Jarque-Bera (JB):           228837.695\n",
       "Skew:                           4.052   Prob(JB):                         0.00\n",
       "Kurtosis:                      18.068   Cond. No.                     3.55e+19\n",
       "==============================================================================\n",
       "\n",
       "Notes:\n",
       "[1] R² is computed without centering (uncentered) since the model does not contain a constant.\n",
       "[2] Standard Errors assume that the covariance matrix of the errors is correctly specified.\n",
       "[3] The smallest eigenvalue is 5.72e-29. This might indicate that there are\n",
       "strong multicollinearity problems or that the design matrix is singular.\n",
       "\"\"\""
      ]
     },
     "execution_count": 6,
     "metadata": {},
     "output_type": "execute_result"
    }
   ],
   "source": [
    "import statsmodels.api as sm\n",
    "from sklearn.preprocessing import StandardScaler\n",
    "scale = StandardScaler()\n",
    "#this is for common range\n",
    "X = df[['gender', 'caste', 'mathematics_marks','english_marks', 'science_marks', 'science_teacher','languages_teacher', 'guardian', 'internet', 'total_students', 'total_toilets', 'establishment_year']]\n",
    "y=df['continue_drop']\n",
    "est = sm.OLS(y, X).fit()\n",
    "est.summary()\n"
   ]
  },
  {
   "cell_type": "code",
   "execution_count": 7,
   "metadata": {},
   "outputs": [],
   "source": [
    "X = df[['gender', 'caste', 'mathematics_marks','english_marks', 'science_marks', 'science_teacher','languages_teacher', 'guardian','internet']]\n",
    "y=df['continue_drop']"
   ]
  },
  {
   "cell_type": "code",
   "execution_count": 8,
   "metadata": {},
   "outputs": [],
   "source": [
    "X_train, X_test, y_train, y_test = train_test_split(X, y, test_size=0.2, random_state=0)\n",
    "model1 = tree.DecisionTreeClassifier(max_leaf_nodes=5,random_state=0)\n",
    "\n",
    "#mode=lKNeighborsClassifier(n_neighbors=5,\n",
    "#                        n_jobs=-1)\n",
    "model3=XGBClassifier(random_state=0, n_jobs=-1, learning_rate=0.1, \n",
    "                  n_estimators=5,max_depth=5)\n",
    "model4= RandomForestClassifier(n_estimators = 3,random_state= 0,verbose=2,n_jobs=-1,max_depth=3)\n",
    "model5 = MLPClassifier(solver='sgd', hidden_layer_sizes=(5, 3), random_state=0,activation='logistic',learning_rate='invscaling')\n",
    "models= [model1,model3,model4,model5]"
   ]
  },
  {
   "cell_type": "code",
   "execution_count": 9,
   "metadata": {},
   "outputs": [
    {
     "name": "stdout",
     "output_type": "stream",
     "text": [
      "building tree 1 of 3building tree 2 of 3\n",
      "\n",
      "building tree 3 of 3\n"
     ]
    },
    {
     "name": "stderr",
     "output_type": "stream",
     "text": [
      "[Parallel(n_jobs=-1)]: Using backend ThreadingBackend with 24 concurrent workers.\n",
      "[Parallel(n_jobs=-1)]: Done   3 out of   3 | elapsed:    0.0s finished\n",
      "[Parallel(n_jobs=3)]: Using backend ThreadingBackend with 3 concurrent workers.\n",
      "[Parallel(n_jobs=3)]: Done   3 out of   3 | elapsed:    0.0s finished\n"
     ]
    }
   ],
   "source": [
    "model1 = model1.fit(X_train,y_train)\n",
    "model5=model5.fit(X_train,y_train)\n",
    "model3=model3.fit(X_train,y_train)\n",
    "model4=model4.fit(X_train,y_train)\n",
    "\n",
    "\n",
    "result1 = model1.predict(X_test)\n",
    "result5= model5.predict(X_test)\n",
    "result3=model3.predict(X_test)\n",
    "result4= model4.predict(X_test)"
   ]
  },
  {
   "cell_type": "code",
   "execution_count": 10,
   "metadata": {},
   "outputs": [],
   "source": [
    "import pickle\n",
    "with open('model1.pkl', 'wb') as file:  \n",
    "    pickle.dump(model1, file)\n",
    "with open('model3.pkl', 'wb') as file:  \n",
    "    pickle.dump(model3, file)\n",
    "with open('model4.pkl', 'wb') as file:  \n",
    "    pickle.dump(model4, file)\n",
    "with open('model5.pkl', 'wb') as file:  \n",
    "    pickle.dump(model5, file)\n"
   ]
  },
  {
   "cell_type": "code",
   "execution_count": 11,
   "metadata": {},
   "outputs": [],
   "source": [
    "def mode (A,B,C,D):\n",
    "    tzero = 0\n",
    "    tone=0\n",
    "    n= len(A)\n",
    "    results=[]\n",
    "    for i in range(0,n):\n",
    "        one = 0\n",
    "        zero = 0\n",
    "        if(A[i]==0):\n",
    "            zero = zero+1\n",
    "        if(A[i]==1):\n",
    "            one = one +1\n",
    "        if(B[i]==0):\n",
    "            zero = zero+1\n",
    "        if(C[i]==0):\n",
    "            zero = zero+1\n",
    "        if(B[i]==1):\n",
    "            one = one +1\n",
    "        if(C[i]==1):\n",
    "            one = one +1\n",
    "        if(D[i]==0):\n",
    "            zero = zero+1\n",
    "        if(D[i]==1):\n",
    "            one = one +1\n",
    "        if(zero>one):\n",
    "            results.append(0)\n",
    "            tzero=tzero+1\n",
    "        if(one>zero):\n",
    "            results.append(1)\n",
    "            tone=tone+1\n",
    "        if(one == zero):\n",
    "            if(tzero>tone):\n",
    "                results.append(0)\n",
    "                tzero=tzero+1\n",
    "            else:\n",
    "                results.append(1)\n",
    "                tone=tone+1\n",
    "    return results\n",
    "def find(A):\n",
    "    resul = []\n",
    "    n = len(A)\n",
    "    for i in range (0,n):\n",
    "        if A[i]==1:\n",
    "            resul.append(i)\n",
    "    return resul\n",
    "def compare(F,S):\n",
    "    n = len(F)\n",
    "    count = float(0)\n",
    "    for i in range(0,n):\n",
    "        if(F[i]==S[i]):\n",
    "            count = count+1\n",
    "        accu = float(count/n)\n",
    "    return accu"
   ]
  },
  {
   "cell_type": "code",
   "execution_count": 12,
   "metadata": {},
   "outputs": [
    {
     "data": {
      "text/plain": [
       "95.47029043431921"
      ]
     },
     "execution_count": 12,
     "metadata": {},
     "output_type": "execute_result"
    }
   ],
   "source": [
    "results = mode(result1,result3,result4,result5)\n",
    "test =np.array(y_test)\n",
    "100*compare(results,test)"
   ]
  },
  {
   "cell_type": "code",
   "execution_count": 13,
   "metadata": {},
   "outputs": [],
   "source": [
    "#https://mlfromscratch.com/model-stacking-explained/#/\n",
    "#https://towardsdatascience.com/automate-stacking-in-python-fc3e7834772e"
   ]
  },
  {
   "cell_type": "code",
   "execution_count": 14,
   "metadata": {},
   "outputs": [],
   "source": [
    "ft1=model1.feature_importances_\n",
    "ft3=model3.feature_importances_\n",
    "ft4=model4.feature_importances_"
   ]
  },
  {
   "cell_type": "code",
   "execution_count": 15,
   "metadata": {},
   "outputs": [
    {
     "data": {
      "text/plain": [
       "array([0.        , 0.        , 0.        , 0.87264968, 0.        ,\n",
       "       0.12735032, 0.        , 0.        , 0.        ])"
      ]
     },
     "execution_count": 15,
     "metadata": {},
     "output_type": "execute_result"
    }
   ],
   "source": [
    "ft1"
   ]
  },
  {
   "cell_type": "code",
   "execution_count": 16,
   "metadata": {},
   "outputs": [
    {
     "data": {
      "text/plain": [
       "array([0.0127332 , 0.13360037, 0.19633858, 0.29607132, 0.        ,\n",
       "       0.15519686, 0.06591616, 0.02204587, 0.11809755], dtype=float32)"
      ]
     },
     "execution_count": 16,
     "metadata": {},
     "output_type": "execute_result"
    }
   ],
   "source": [
    "ft3"
   ]
  },
  {
   "cell_type": "code",
   "execution_count": 17,
   "metadata": {},
   "outputs": [
    {
     "data": {
      "text/plain": [
       "array([0.        , 0.        , 0.24133008, 0.60052244, 0.08916948,\n",
       "       0.05864004, 0.        , 0.        , 0.01033796])"
      ]
     },
     "execution_count": 17,
     "metadata": {},
     "output_type": "execute_result"
    }
   ],
   "source": [
    "ft4"
   ]
  },
  {
   "cell_type": "code",
   "execution_count": 18,
   "metadata": {},
   "outputs": [
    {
     "data": {
      "text/plain": [
       "['Decision tree', 'science_teacher', 'english_marks']"
      ]
     },
     "execution_count": 18,
     "metadata": {},
     "output_type": "execute_result"
    }
   ],
   "source": [
    "ind = np.argsort(ft1)\n",
    "ind = ind[-2:]\n",
    "clas=X_train.columns\n",
    "lis = ['Decision tree']\n",
    "for i in ind:\n",
    "    lis.append(clas[i])\n",
    "mft1 = lis\n",
    "mft1"
   ]
  },
  {
   "cell_type": "code",
   "execution_count": 19,
   "metadata": {},
   "outputs": [
    {
     "data": {
      "text/plain": [
       "['XGB', 'caste', 'science_teacher', 'mathematics_marks', 'english_marks']"
      ]
     },
     "execution_count": 19,
     "metadata": {},
     "output_type": "execute_result"
    }
   ],
   "source": [
    "ind3 = np.argsort(ft3)\n",
    "ind3 = ind3[-4:]\n",
    "clas=X_train.columns\n",
    "lis3 = ['XGB']\n",
    "for i in ind3:\n",
    "    lis3.append(clas[i])\n",
    "mft3 = lis3\n",
    "\n",
    "mft3"
   ]
  },
  {
   "cell_type": "code",
   "execution_count": 20,
   "metadata": {},
   "outputs": [
    {
     "data": {
      "text/plain": [
       "['Random Forest',\n",
       " 'science_teacher',\n",
       " 'science_marks',\n",
       " 'mathematics_marks',\n",
       " 'english_marks']"
      ]
     },
     "execution_count": 20,
     "metadata": {},
     "output_type": "execute_result"
    }
   ],
   "source": [
    "ind = np.argsort(ft4)\n",
    "ind = ind[-4:]\n",
    "clas=X_train.columns\n",
    "lis = [\"Random Forest\"]\n",
    "for i in ind:\n",
    "    lis.append(clas[i])\n",
    "mft4 = lis\n",
    "mft4"
   ]
  },
  {
   "cell_type": "code",
   "execution_count": 21,
   "metadata": {},
   "outputs": [
    {
     "data": {
      "text/html": [
       "<div>\n",
       "<style scoped>\n",
       "    .dataframe tbody tr th:only-of-type {\n",
       "        vertical-align: middle;\n",
       "    }\n",
       "\n",
       "    .dataframe tbody tr th {\n",
       "        vertical-align: top;\n",
       "    }\n",
       "\n",
       "    .dataframe thead th {\n",
       "        text-align: right;\n",
       "    }\n",
       "</style>\n",
       "<table border=\"1\" class=\"dataframe\">\n",
       "  <thead>\n",
       "    <tr style=\"text-align: right;\">\n",
       "      <th></th>\n",
       "      <th>0</th>\n",
       "      <th>1</th>\n",
       "      <th>2</th>\n",
       "      <th>3</th>\n",
       "      <th>4</th>\n",
       "    </tr>\n",
       "  </thead>\n",
       "  <tbody>\n",
       "    <tr>\n",
       "      <th>0</th>\n",
       "      <td>Decision tree</td>\n",
       "      <td>science_teacher</td>\n",
       "      <td>english_marks</td>\n",
       "      <td>None</td>\n",
       "      <td>None</td>\n",
       "    </tr>\n",
       "    <tr>\n",
       "      <th>1</th>\n",
       "      <td>XGB</td>\n",
       "      <td>caste</td>\n",
       "      <td>science_teacher</td>\n",
       "      <td>mathematics_marks</td>\n",
       "      <td>english_marks</td>\n",
       "    </tr>\n",
       "    <tr>\n",
       "      <th>2</th>\n",
       "      <td>Random Forest</td>\n",
       "      <td>science_teacher</td>\n",
       "      <td>science_marks</td>\n",
       "      <td>mathematics_marks</td>\n",
       "      <td>english_marks</td>\n",
       "    </tr>\n",
       "  </tbody>\n",
       "</table>\n",
       "</div>"
      ],
      "text/plain": [
       "               0                1                2                  3  \\\n",
       "0  Decision tree  science_teacher    english_marks               None   \n",
       "1            XGB            caste  science_teacher  mathematics_marks   \n",
       "2  Random Forest  science_teacher    science_marks  mathematics_marks   \n",
       "\n",
       "               4  \n",
       "0           None  \n",
       "1  english_marks  \n",
       "2  english_marks  "
      ]
     },
     "execution_count": 21,
     "metadata": {},
     "output_type": "execute_result"
    }
   ],
   "source": [
    "dat=[mft1,mft3,mft4]\n",
    "dat = pd.DataFrame(dat)\n",
    "dat"
   ]
  },
  {
   "cell_type": "code",
   "execution_count": 22,
   "metadata": {},
   "outputs": [],
   "source": [
    "dat.to_csv(r'features.csv',header=True,index=None)"
   ]
  },
  {
   "cell_type": "code",
   "execution_count": 23,
   "metadata": {},
   "outputs": [],
   "source": [
    "#inserting and interpretting dataset"
   ]
  },
  {
   "cell_type": "code",
   "execution_count": 24,
   "metadata": {},
   "outputs": [],
   "source": [
    "def guess (dataset):\n",
    "    ids=[]\n",
    "    A = model1.predict(dataset)\n",
    "    B = model5.predict(dataset)\n",
    "    C =model3.predict(dataset)\n",
    "    D = model4.predict(dataset)\n",
    "    results = mode(A,B,C,D)\n",
    "    index = find(results)\n",
    "    for i in index :\n",
    "        ids.append(df['student_id'][i])\n",
    "    ids=pd.DataFrame(ids)\n",
    "    ids.to_csv(r'Drop_Student_list.csv',header=True,index=None)"
   ]
  },
  {
   "cell_type": "code",
   "execution_count": 25,
   "metadata": {},
   "outputs": [
    {
     "data": {
      "text/html": [
       "<div>\n",
       "<style scoped>\n",
       "    .dataframe tbody tr th:only-of-type {\n",
       "        vertical-align: middle;\n",
       "    }\n",
       "\n",
       "    .dataframe tbody tr th {\n",
       "        vertical-align: top;\n",
       "    }\n",
       "\n",
       "    .dataframe thead th {\n",
       "        text-align: right;\n",
       "    }\n",
       "</style>\n",
       "<table border=\"1\" class=\"dataframe\">\n",
       "  <thead>\n",
       "    <tr style=\"text-align: right;\">\n",
       "      <th></th>\n",
       "      <th>gender</th>\n",
       "      <th>caste</th>\n",
       "      <th>mathematics_marks</th>\n",
       "      <th>english_marks</th>\n",
       "      <th>science_marks</th>\n",
       "      <th>science_teacher</th>\n",
       "      <th>languages_teacher</th>\n",
       "      <th>guardian</th>\n",
       "      <th>internet</th>\n",
       "    </tr>\n",
       "  </thead>\n",
       "  <tbody>\n",
       "    <tr>\n",
       "      <th>13057</th>\n",
       "      <td>1</td>\n",
       "      <td>3</td>\n",
       "      <td>0.562</td>\n",
       "      <td>0.709</td>\n",
       "      <td>0.562</td>\n",
       "      <td>6</td>\n",
       "      <td>3</td>\n",
       "      <td>2</td>\n",
       "      <td>1</td>\n",
       "    </tr>\n",
       "    <tr>\n",
       "      <th>3236</th>\n",
       "      <td>1</td>\n",
       "      <td>2</td>\n",
       "      <td>0.768</td>\n",
       "      <td>0.755</td>\n",
       "      <td>0.768</td>\n",
       "      <td>4</td>\n",
       "      <td>7</td>\n",
       "      <td>1</td>\n",
       "      <td>1</td>\n",
       "    </tr>\n",
       "    <tr>\n",
       "      <th>14942</th>\n",
       "      <td>1</td>\n",
       "      <td>2</td>\n",
       "      <td>0.686</td>\n",
       "      <td>0.830</td>\n",
       "      <td>0.686</td>\n",
       "      <td>2</td>\n",
       "      <td>0</td>\n",
       "      <td>2</td>\n",
       "      <td>1</td>\n",
       "    </tr>\n",
       "    <tr>\n",
       "      <th>1586</th>\n",
       "      <td>2</td>\n",
       "      <td>2</td>\n",
       "      <td>0.586</td>\n",
       "      <td>0.648</td>\n",
       "      <td>0.586</td>\n",
       "      <td>4</td>\n",
       "      <td>9</td>\n",
       "      <td>1</td>\n",
       "      <td>1</td>\n",
       "    </tr>\n",
       "    <tr>\n",
       "      <th>5455</th>\n",
       "      <td>1</td>\n",
       "      <td>2</td>\n",
       "      <td>0.485</td>\n",
       "      <td>0.520</td>\n",
       "      <td>0.485</td>\n",
       "      <td>1</td>\n",
       "      <td>8</td>\n",
       "      <td>2</td>\n",
       "      <td>1</td>\n",
       "    </tr>\n",
       "    <tr>\n",
       "      <th>...</th>\n",
       "      <td>...</td>\n",
       "      <td>...</td>\n",
       "      <td>...</td>\n",
       "      <td>...</td>\n",
       "      <td>...</td>\n",
       "      <td>...</td>\n",
       "      <td>...</td>\n",
       "      <td>...</td>\n",
       "      <td>...</td>\n",
       "    </tr>\n",
       "    <tr>\n",
       "      <th>5750</th>\n",
       "      <td>2</td>\n",
       "      <td>3</td>\n",
       "      <td>0.684</td>\n",
       "      <td>0.848</td>\n",
       "      <td>0.684</td>\n",
       "      <td>8</td>\n",
       "      <td>6</td>\n",
       "      <td>1</td>\n",
       "      <td>1</td>\n",
       "    </tr>\n",
       "    <tr>\n",
       "      <th>13338</th>\n",
       "      <td>1</td>\n",
       "      <td>4</td>\n",
       "      <td>0.999</td>\n",
       "      <td>0.745</td>\n",
       "      <td>0.999</td>\n",
       "      <td>2</td>\n",
       "      <td>6</td>\n",
       "      <td>1</td>\n",
       "      <td>1</td>\n",
       "    </tr>\n",
       "    <tr>\n",
       "      <th>4798</th>\n",
       "      <td>1</td>\n",
       "      <td>2</td>\n",
       "      <td>0.562</td>\n",
       "      <td>0.636</td>\n",
       "      <td>0.562</td>\n",
       "      <td>1</td>\n",
       "      <td>5</td>\n",
       "      <td>2</td>\n",
       "      <td>1</td>\n",
       "    </tr>\n",
       "    <tr>\n",
       "      <th>18652</th>\n",
       "      <td>1</td>\n",
       "      <td>1</td>\n",
       "      <td>0.737</td>\n",
       "      <td>0.889</td>\n",
       "      <td>0.737</td>\n",
       "      <td>2</td>\n",
       "      <td>5</td>\n",
       "      <td>2</td>\n",
       "      <td>0</td>\n",
       "    </tr>\n",
       "    <tr>\n",
       "      <th>1894</th>\n",
       "      <td>2</td>\n",
       "      <td>2</td>\n",
       "      <td>0.461</td>\n",
       "      <td>0.524</td>\n",
       "      <td>0.461</td>\n",
       "      <td>0</td>\n",
       "      <td>3</td>\n",
       "      <td>2</td>\n",
       "      <td>1</td>\n",
       "    </tr>\n",
       "  </tbody>\n",
       "</table>\n",
       "<p>3753 rows × 9 columns</p>\n",
       "</div>"
      ],
      "text/plain": [
       "       gender  caste  mathematics_marks  english_marks  science_marks  \\\n",
       "13057       1      3              0.562          0.709          0.562   \n",
       "3236        1      2              0.768          0.755          0.768   \n",
       "14942       1      2              0.686          0.830          0.686   \n",
       "1586        2      2              0.586          0.648          0.586   \n",
       "5455        1      2              0.485          0.520          0.485   \n",
       "...       ...    ...                ...            ...            ...   \n",
       "5750        2      3              0.684          0.848          0.684   \n",
       "13338       1      4              0.999          0.745          0.999   \n",
       "4798        1      2              0.562          0.636          0.562   \n",
       "18652       1      1              0.737          0.889          0.737   \n",
       "1894        2      2              0.461          0.524          0.461   \n",
       "\n",
       "       science_teacher  languages_teacher  guardian  internet  \n",
       "13057                6                  3         2         1  \n",
       "3236                 4                  7         1         1  \n",
       "14942                2                  0         2         1  \n",
       "1586                 4                  9         1         1  \n",
       "5455                 1                  8         2         1  \n",
       "...                ...                ...       ...       ...  \n",
       "5750                 8                  6         1         1  \n",
       "13338                2                  6         1         1  \n",
       "4798                 1                  5         2         1  \n",
       "18652                2                  5         2         0  \n",
       "1894                 0                  3         2         1  \n",
       "\n",
       "[3753 rows x 9 columns]"
      ]
     },
     "execution_count": 25,
     "metadata": {},
     "output_type": "execute_result"
    }
   ],
   "source": [
    "X_test"
   ]
  },
  {
   "cell_type": "code",
   "execution_count": 26,
   "metadata": {},
   "outputs": [
    {
     "data": {
      "text/plain": [
       "Index(['gender', 'caste', 'mathematics_marks', 'english_marks',\n",
       "       'science_marks', 'science_teacher', 'languages_teacher', 'guardian',\n",
       "       'internet'],\n",
       "      dtype='object')"
      ]
     },
     "execution_count": 26,
     "metadata": {},
     "output_type": "execute_result"
    }
   ],
   "source": [
    "X_test.columns"
   ]
  },
  {
   "cell_type": "code",
   "execution_count": 27,
   "metadata": {},
   "outputs": [
    {
     "name": "stderr",
     "output_type": "stream",
     "text": [
      "[Parallel(n_jobs=3)]: Using backend ThreadingBackend with 3 concurrent workers.\n",
      "[Parallel(n_jobs=3)]: Done   3 out of   3 | elapsed:    0.0s finished\n"
     ]
    }
   ],
   "source": [
    "adc=guess(X_test)"
   ]
  },
  {
   "cell_type": "code",
   "execution_count": null,
   "metadata": {},
   "outputs": [],
   "source": []
  },
  {
   "cell_type": "code",
   "execution_count": null,
   "metadata": {},
   "outputs": [],
   "source": []
  },
  {
   "cell_type": "code",
   "execution_count": null,
   "metadata": {},
   "outputs": [],
   "source": []
  }
 ],
 "metadata": {
  "kernelspec": {
   "display_name": "Python 3 (ipykernel)",
   "language": "python",
   "name": "python3"
  },
  "language_info": {
   "codemirror_mode": {
    "name": "ipython",
    "version": 3
   },
   "file_extension": ".py",
   "mimetype": "text/x-python",
   "name": "python",
   "nbconvert_exporter": "python",
   "pygments_lexer": "ipython3",
   "version": "3.11.4"
  }
 },
 "nbformat": 4,
 "nbformat_minor": 4
}
