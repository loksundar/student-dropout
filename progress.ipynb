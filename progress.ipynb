{
 "cells": [
  {
   "cell_type": "code",
   "execution_count": 2,
   "metadata": {},
   "outputs": [
    {
     "data": {
      "text/html": [
       "<div>\n",
       "<style scoped>\n",
       "    .dataframe tbody tr th:only-of-type {\n",
       "        vertical-align: middle;\n",
       "    }\n",
       "\n",
       "    .dataframe tbody tr th {\n",
       "        vertical-align: top;\n",
       "    }\n",
       "\n",
       "    .dataframe thead th {\n",
       "        text-align: right;\n",
       "    }\n",
       "</style>\n",
       "<table border=\"1\" class=\"dataframe\">\n",
       "  <thead>\n",
       "    <tr style=\"text-align: right;\">\n",
       "      <th></th>\n",
       "      <th>continue_drop</th>\n",
       "      <th>student_id</th>\n",
       "      <th>gender</th>\n",
       "      <th>caste</th>\n",
       "      <th>mathematics_marks</th>\n",
       "      <th>english_marks</th>\n",
       "      <th>science_marks</th>\n",
       "      <th>science_teacher</th>\n",
       "      <th>languages_teacher</th>\n",
       "      <th>guardian</th>\n",
       "      <th>internet</th>\n",
       "      <th>school_id</th>\n",
       "      <th>total_students</th>\n",
       "      <th>total_toilets</th>\n",
       "      <th>establishment_year</th>\n",
       "    </tr>\n",
       "  </thead>\n",
       "  <tbody>\n",
       "    <tr>\n",
       "      <td>0</td>\n",
       "      <td>0</td>\n",
       "      <td>s00001</td>\n",
       "      <td>2</td>\n",
       "      <td>3</td>\n",
       "      <td>0.409</td>\n",
       "      <td>0.514</td>\n",
       "      <td>0.409</td>\n",
       "      <td>6</td>\n",
       "      <td>0</td>\n",
       "      <td>2</td>\n",
       "      <td>1</td>\n",
       "      <td>310</td>\n",
       "      <td>262</td>\n",
       "      <td>28.0</td>\n",
       "      <td>1985.0</td>\n",
       "    </tr>\n",
       "    <tr>\n",
       "      <td>1</td>\n",
       "      <td>0</td>\n",
       "      <td>s00002</td>\n",
       "      <td>2</td>\n",
       "      <td>2</td>\n",
       "      <td>0.290</td>\n",
       "      <td>0.512</td>\n",
       "      <td>0.290</td>\n",
       "      <td>4</td>\n",
       "      <td>7</td>\n",
       "      <td>2</td>\n",
       "      <td>1</td>\n",
       "      <td>328</td>\n",
       "      <td>356</td>\n",
       "      <td>14.0</td>\n",
       "      <td>1943.0</td>\n",
       "    </tr>\n",
       "    <tr>\n",
       "      <td>2</td>\n",
       "      <td>0</td>\n",
       "      <td>s00003</td>\n",
       "      <td>2</td>\n",
       "      <td>1</td>\n",
       "      <td>0.602</td>\n",
       "      <td>0.666</td>\n",
       "      <td>0.602</td>\n",
       "      <td>4</td>\n",
       "      <td>2</td>\n",
       "      <td>2</td>\n",
       "      <td>0</td>\n",
       "      <td>322</td>\n",
       "      <td>179</td>\n",
       "      <td>8.0</td>\n",
       "      <td>1955.0</td>\n",
       "    </tr>\n",
       "    <tr>\n",
       "      <td>3</td>\n",
       "      <td>0</td>\n",
       "      <td>s00004</td>\n",
       "      <td>2</td>\n",
       "      <td>2</td>\n",
       "      <td>0.378</td>\n",
       "      <td>0.526</td>\n",
       "      <td>0.378</td>\n",
       "      <td>8</td>\n",
       "      <td>7</td>\n",
       "      <td>2</td>\n",
       "      <td>1</td>\n",
       "      <td>305</td>\n",
       "      <td>354</td>\n",
       "      <td>86.0</td>\n",
       "      <td>1986.0</td>\n",
       "    </tr>\n",
       "    <tr>\n",
       "      <td>4</td>\n",
       "      <td>0</td>\n",
       "      <td>s00005</td>\n",
       "      <td>2</td>\n",
       "      <td>1</td>\n",
       "      <td>0.536</td>\n",
       "      <td>0.614</td>\n",
       "      <td>0.536</td>\n",
       "      <td>9</td>\n",
       "      <td>4</td>\n",
       "      <td>0</td>\n",
       "      <td>1</td>\n",
       "      <td>360</td>\n",
       "      <td>273</td>\n",
       "      <td>2.0</td>\n",
       "      <td>1995.0</td>\n",
       "    </tr>\n",
       "  </tbody>\n",
       "</table>\n",
       "</div>"
      ],
      "text/plain": [
       "   continue_drop student_id  gender  caste  mathematics_marks  english_marks  \\\n",
       "0              0     s00001       2      3              0.409          0.514   \n",
       "1              0     s00002       2      2              0.290          0.512   \n",
       "2              0     s00003       2      1              0.602          0.666   \n",
       "3              0     s00004       2      2              0.378          0.526   \n",
       "4              0     s00005       2      1              0.536          0.614   \n",
       "\n",
       "   science_marks  science_teacher  languages_teacher  guardian  internet  \\\n",
       "0          0.409                6                  0         2         1   \n",
       "1          0.290                4                  7         2         1   \n",
       "2          0.602                4                  2         2         0   \n",
       "3          0.378                8                  7         2         1   \n",
       "4          0.536                9                  4         0         1   \n",
       "\n",
       "   school_id  total_students  total_toilets  establishment_year  \n",
       "0        310             262           28.0              1985.0  \n",
       "1        328             356           14.0              1943.0  \n",
       "2        322             179            8.0              1955.0  \n",
       "3        305             354           86.0              1986.0  \n",
       "4        360             273            2.0              1995.0  "
      ]
     },
     "execution_count": 2,
     "metadata": {},
     "output_type": "execute_result"
    }
   ],
   "source": [
    "import pandas as pd\n",
    "import numpy as np\n",
    "df = pd.read_csv('modstudent.csv')\n",
    "df.head()"
   ]
  },
  {
   "cell_type": "code",
   "execution_count": 3,
   "metadata": {},
   "outputs": [
    {
     "data": {
      "text/plain": [
       "Index(['continue_drop', 'student_id', 'gender', 'caste', 'mathematics_marks',\n",
       "       'english_marks', 'science_marks', 'science_teacher',\n",
       "       'languages_teacher', 'guardian', 'internet', 'school_id',\n",
       "       'total_students', 'total_toilets', 'establishment_year'],\n",
       "      dtype='object')"
      ]
     },
     "execution_count": 3,
     "metadata": {},
     "output_type": "execute_result"
    }
   ],
   "source": [
    "df.columns"
   ]
  },
  {
   "cell_type": "code",
   "execution_count": 4,
   "metadata": {},
   "outputs": [
    {
     "data": {
      "text/html": [
       "<table class=\"simpletable\">\n",
       "<caption>OLS Regression Results</caption>\n",
       "<tr>\n",
       "  <th>Dep. Variable:</th>      <td>continue_drop</td>  <th>  R-squared (uncentered):</th>      <td>   0.077</td> \n",
       "</tr>\n",
       "<tr>\n",
       "  <th>Model:</th>                   <td>OLS</td>       <th>  Adj. R-squared (uncentered):</th> <td>   0.076</td> \n",
       "</tr>\n",
       "<tr>\n",
       "  <th>Method:</th>             <td>Least Squares</td>  <th>  F-statistic:       </th>          <td>   142.1</td> \n",
       "</tr>\n",
       "<tr>\n",
       "  <th>Date:</th>             <td>Wed, 04 Mar 2020</td> <th>  Prob (F-statistic):</th>          <td>1.08e-315</td>\n",
       "</tr>\n",
       "<tr>\n",
       "  <th>Time:</th>                 <td>14:04:06</td>     <th>  Log-Likelihood:    </th>          <td>  2704.9</td> \n",
       "</tr>\n",
       "<tr>\n",
       "  <th>No. Observations:</th>      <td> 18762</td>      <th>  AIC:               </th>          <td>  -5388.</td> \n",
       "</tr>\n",
       "<tr>\n",
       "  <th>Df Residuals:</th>          <td> 18751</td>      <th>  BIC:               </th>          <td>  -5302.</td> \n",
       "</tr>\n",
       "<tr>\n",
       "  <th>Df Model:</th>              <td>    11</td>      <th>                     </th>              <td> </td>    \n",
       "</tr>\n",
       "<tr>\n",
       "  <th>Covariance Type:</th>      <td>nonrobust</td>    <th>                     </th>              <td> </td>    \n",
       "</tr>\n",
       "</table>\n",
       "<table class=\"simpletable\">\n",
       "<tr>\n",
       "           <td></td>             <th>coef</th>     <th>std err</th>      <th>t</th>      <th>P>|t|</th>  <th>[0.025</th>    <th>0.975]</th>  \n",
       "</tr>\n",
       "<tr>\n",
       "  <th>gender</th>             <td>    0.0107</td> <td>    0.003</td> <td>    3.281</td> <td> 0.001</td> <td>    0.004</td> <td>    0.017</td>\n",
       "</tr>\n",
       "<tr>\n",
       "  <th>caste</th>              <td>   -0.0129</td> <td>    0.002</td> <td>   -6.553</td> <td> 0.000</td> <td>   -0.017</td> <td>   -0.009</td>\n",
       "</tr>\n",
       "<tr>\n",
       "  <th>mathematics_marks</th>  <td>   -0.0319</td> <td>    0.005</td> <td>   -6.977</td> <td> 0.000</td> <td>   -0.041</td> <td>   -0.023</td>\n",
       "</tr>\n",
       "<tr>\n",
       "  <th>english_marks</th>      <td>    0.1162</td> <td>    0.011</td> <td>   10.412</td> <td> 0.000</td> <td>    0.094</td> <td>    0.138</td>\n",
       "</tr>\n",
       "<tr>\n",
       "  <th>science_marks</th>      <td>   -0.0319</td> <td>    0.005</td> <td>   -6.977</td> <td> 0.000</td> <td>   -0.041</td> <td>   -0.023</td>\n",
       "</tr>\n",
       "<tr>\n",
       "  <th>science_teacher</th>    <td>    0.0109</td> <td>    0.001</td> <td>   17.364</td> <td> 0.000</td> <td>    0.010</td> <td>    0.012</td>\n",
       "</tr>\n",
       "<tr>\n",
       "  <th>languages_teacher</th>  <td>   -0.0014</td> <td>    0.001</td> <td>   -2.624</td> <td> 0.009</td> <td>   -0.002</td> <td>   -0.000</td>\n",
       "</tr>\n",
       "<tr>\n",
       "  <th>guardian</th>           <td>   -0.0026</td> <td>    0.003</td> <td>   -0.995</td> <td> 0.320</td> <td>   -0.008</td> <td>    0.003</td>\n",
       "</tr>\n",
       "<tr>\n",
       "  <th>internet</th>           <td>    0.0347</td> <td>    0.004</td> <td>    8.045</td> <td> 0.000</td> <td>    0.026</td> <td>    0.043</td>\n",
       "</tr>\n",
       "<tr>\n",
       "  <th>total_students</th>     <td>-2.762e-06</td> <td> 1.22e-05</td> <td>   -0.226</td> <td> 0.821</td> <td>-2.67e-05</td> <td> 2.12e-05</td>\n",
       "</tr>\n",
       "<tr>\n",
       "  <th>total_toilets</th>      <td>  6.28e-05</td> <td> 7.56e-05</td> <td>    0.831</td> <td> 0.406</td> <td>-8.53e-05</td> <td>    0.000</td>\n",
       "</tr>\n",
       "<tr>\n",
       "  <th>establishment_year</th> <td>-1.759e-05</td> <td> 5.62e-06</td> <td>   -3.131</td> <td> 0.002</td> <td>-2.86e-05</td> <td>-6.58e-06</td>\n",
       "</tr>\n",
       "</table>\n",
       "<table class=\"simpletable\">\n",
       "<tr>\n",
       "  <th>Omnibus:</th>       <td>15127.354</td> <th>  Durbin-Watson:     </th>  <td>   2.079</td> \n",
       "</tr>\n",
       "<tr>\n",
       "  <th>Prob(Omnibus):</th>  <td> 0.000</td>   <th>  Jarque-Bera (JB):  </th> <td>228837.695</td>\n",
       "</tr>\n",
       "<tr>\n",
       "  <th>Skew:</th>           <td> 4.052</td>   <th>  Prob(JB):          </th>  <td>    0.00</td> \n",
       "</tr>\n",
       "<tr>\n",
       "  <th>Kurtosis:</th>       <td>18.068</td>   <th>  Cond. No.          </th>  <td>3.53e+20</td> \n",
       "</tr>\n",
       "</table><br/><br/>Warnings:<br/>[1] Standard Errors assume that the covariance matrix of the errors is correctly specified.<br/>[2] The smallest eigenvalue is 5.77e-31. This might indicate that there are<br/>strong multicollinearity problems or that the design matrix is singular."
      ],
      "text/plain": [
       "<class 'statsmodels.iolib.summary.Summary'>\n",
       "\"\"\"\n",
       "                                 OLS Regression Results                                \n",
       "=======================================================================================\n",
       "Dep. Variable:          continue_drop   R-squared (uncentered):                   0.077\n",
       "Model:                            OLS   Adj. R-squared (uncentered):              0.076\n",
       "Method:                 Least Squares   F-statistic:                              142.1\n",
       "Date:                Wed, 04 Mar 2020   Prob (F-statistic):                   1.08e-315\n",
       "Time:                        14:04:06   Log-Likelihood:                          2704.9\n",
       "No. Observations:               18762   AIC:                                     -5388.\n",
       "Df Residuals:                   18751   BIC:                                     -5302.\n",
       "Df Model:                          11                                                  \n",
       "Covariance Type:            nonrobust                                                  \n",
       "======================================================================================\n",
       "                         coef    std err          t      P>|t|      [0.025      0.975]\n",
       "--------------------------------------------------------------------------------------\n",
       "gender                 0.0107      0.003      3.281      0.001       0.004       0.017\n",
       "caste                 -0.0129      0.002     -6.553      0.000      -0.017      -0.009\n",
       "mathematics_marks     -0.0319      0.005     -6.977      0.000      -0.041      -0.023\n",
       "english_marks          0.1162      0.011     10.412      0.000       0.094       0.138\n",
       "science_marks         -0.0319      0.005     -6.977      0.000      -0.041      -0.023\n",
       "science_teacher        0.0109      0.001     17.364      0.000       0.010       0.012\n",
       "languages_teacher     -0.0014      0.001     -2.624      0.009      -0.002      -0.000\n",
       "guardian              -0.0026      0.003     -0.995      0.320      -0.008       0.003\n",
       "internet               0.0347      0.004      8.045      0.000       0.026       0.043\n",
       "total_students     -2.762e-06   1.22e-05     -0.226      0.821   -2.67e-05    2.12e-05\n",
       "total_toilets        6.28e-05   7.56e-05      0.831      0.406   -8.53e-05       0.000\n",
       "establishment_year -1.759e-05   5.62e-06     -3.131      0.002   -2.86e-05   -6.58e-06\n",
       "==============================================================================\n",
       "Omnibus:                    15127.354   Durbin-Watson:                   2.079\n",
       "Prob(Omnibus):                  0.000   Jarque-Bera (JB):           228837.695\n",
       "Skew:                           4.052   Prob(JB):                         0.00\n",
       "Kurtosis:                      18.068   Cond. No.                     3.53e+20\n",
       "==============================================================================\n",
       "\n",
       "Warnings:\n",
       "[1] Standard Errors assume that the covariance matrix of the errors is correctly specified.\n",
       "[2] The smallest eigenvalue is 5.77e-31. This might indicate that there are\n",
       "strong multicollinearity problems or that the design matrix is singular.\n",
       "\"\"\""
      ]
     },
     "execution_count": 4,
     "metadata": {},
     "output_type": "execute_result"
    }
   ],
   "source": [
    "import statsmodels.api as sm\n",
    "from sklearn.preprocessing import StandardScaler\n",
    "scale = StandardScaler()\n",
    "#this is for common range\n",
    "X = df[['gender', 'caste', 'mathematics_marks','english_marks', 'science_marks', 'science_teacher','languages_teacher', 'guardian', 'internet', 'total_students', 'total_toilets', 'establishment_year']]\n",
    "y=df['continue_drop']\n",
    "est = sm.OLS(y, X).fit()\n",
    "est.summary()"
   ]
  },
  {
   "cell_type": "code",
   "execution_count": 5,
   "metadata": {
    "scrolled": true
   },
   "outputs": [
    {
     "data": {
      "text/html": [
       "<table class=\"simpletable\">\n",
       "<caption>OLS Regression Results</caption>\n",
       "<tr>\n",
       "  <th>Dep. Variable:</th>      <td>continue_drop</td>  <th>  R-squared (uncentered):</th>      <td>   0.076</td> \n",
       "</tr>\n",
       "<tr>\n",
       "  <th>Model:</th>                   <td>OLS</td>       <th>  Adj. R-squared (uncentered):</th> <td>   0.076</td> \n",
       "</tr>\n",
       "<tr>\n",
       "  <th>Method:</th>             <td>Least Squares</td>  <th>  F-statistic:       </th>          <td>   194.0</td> \n",
       "</tr>\n",
       "<tr>\n",
       "  <th>Date:</th>             <td>Wed, 04 Mar 2020</td> <th>  Prob (F-statistic):</th>          <td>1.14e-316</td>\n",
       "</tr>\n",
       "<tr>\n",
       "  <th>Time:</th>                 <td>14:04:06</td>     <th>  Log-Likelihood:    </th>          <td>  2699.3</td> \n",
       "</tr>\n",
       "<tr>\n",
       "  <th>No. Observations:</th>      <td> 18762</td>      <th>  AIC:               </th>          <td>  -5383.</td> \n",
       "</tr>\n",
       "<tr>\n",
       "  <th>Df Residuals:</th>          <td> 18754</td>      <th>  BIC:               </th>          <td>  -5320.</td> \n",
       "</tr>\n",
       "<tr>\n",
       "  <th>Df Model:</th>              <td>     8</td>      <th>                     </th>              <td> </td>    \n",
       "</tr>\n",
       "<tr>\n",
       "  <th>Covariance Type:</th>      <td>nonrobust</td>    <th>                     </th>              <td> </td>    \n",
       "</tr>\n",
       "</table>\n",
       "<table class=\"simpletable\">\n",
       "<tr>\n",
       "          <td></td>             <th>coef</th>     <th>std err</th>      <th>t</th>      <th>P>|t|</th>  <th>[0.025</th>    <th>0.975]</th>  \n",
       "</tr>\n",
       "<tr>\n",
       "  <th>gender</th>            <td>    0.0065</td> <td>    0.003</td> <td>    2.170</td> <td> 0.030</td> <td>    0.001</td> <td>    0.012</td>\n",
       "</tr>\n",
       "<tr>\n",
       "  <th>caste</th>             <td>   -0.0156</td> <td>    0.002</td> <td>   -8.678</td> <td> 0.000</td> <td>   -0.019</td> <td>   -0.012</td>\n",
       "</tr>\n",
       "<tr>\n",
       "  <th>mathematics_marks</th> <td>   -0.0343</td> <td>    0.005</td> <td>   -7.600</td> <td> 0.000</td> <td>   -0.043</td> <td>   -0.025</td>\n",
       "</tr>\n",
       "<tr>\n",
       "  <th>english_marks</th>     <td>    0.1097</td> <td>    0.011</td> <td>    9.993</td> <td> 0.000</td> <td>    0.088</td> <td>    0.131</td>\n",
       "</tr>\n",
       "<tr>\n",
       "  <th>science_marks</th>     <td>   -0.0343</td> <td>    0.005</td> <td>   -7.600</td> <td> 0.000</td> <td>   -0.043</td> <td>   -0.025</td>\n",
       "</tr>\n",
       "<tr>\n",
       "  <th>science_teacher</th>   <td>    0.0103</td> <td>    0.001</td> <td>   17.125</td> <td> 0.000</td> <td>    0.009</td> <td>    0.011</td>\n",
       "</tr>\n",
       "<tr>\n",
       "  <th>languages_teacher</th> <td>   -0.0018</td> <td>    0.000</td> <td>   -3.605</td> <td> 0.000</td> <td>   -0.003</td> <td>   -0.001</td>\n",
       "</tr>\n",
       "<tr>\n",
       "  <th>guardian</th>          <td>   -0.0060</td> <td>    0.002</td> <td>   -2.506</td> <td> 0.012</td> <td>   -0.011</td> <td>   -0.001</td>\n",
       "</tr>\n",
       "<tr>\n",
       "  <th>internet</th>          <td>    0.0299</td> <td>    0.004</td> <td>    7.381</td> <td> 0.000</td> <td>    0.022</td> <td>    0.038</td>\n",
       "</tr>\n",
       "</table>\n",
       "<table class=\"simpletable\">\n",
       "<tr>\n",
       "  <th>Omnibus:</th>       <td>15163.642</td> <th>  Durbin-Watson:     </th>  <td>   2.082</td> \n",
       "</tr>\n",
       "<tr>\n",
       "  <th>Prob(Omnibus):</th>  <td> 0.000</td>   <th>  Jarque-Bera (JB):  </th> <td>230561.842</td>\n",
       "</tr>\n",
       "<tr>\n",
       "  <th>Skew:</th>           <td> 4.064</td>   <th>  Prob(JB):          </th>  <td>    0.00</td> \n",
       "</tr>\n",
       "<tr>\n",
       "  <th>Kurtosis:</th>       <td>18.128</td>   <th>  Cond. No.          </th>  <td>1.19e+17</td> \n",
       "</tr>\n",
       "</table><br/><br/>Warnings:<br/>[1] Standard Errors assume that the covariance matrix of the errors is correctly specified.<br/>[2] The smallest eigenvalue is 8.13e-29. This might indicate that there are<br/>strong multicollinearity problems or that the design matrix is singular."
      ],
      "text/plain": [
       "<class 'statsmodels.iolib.summary.Summary'>\n",
       "\"\"\"\n",
       "                                 OLS Regression Results                                \n",
       "=======================================================================================\n",
       "Dep. Variable:          continue_drop   R-squared (uncentered):                   0.076\n",
       "Model:                            OLS   Adj. R-squared (uncentered):              0.076\n",
       "Method:                 Least Squares   F-statistic:                              194.0\n",
       "Date:                Wed, 04 Mar 2020   Prob (F-statistic):                   1.14e-316\n",
       "Time:                        14:04:06   Log-Likelihood:                          2699.3\n",
       "No. Observations:               18762   AIC:                                     -5383.\n",
       "Df Residuals:                   18754   BIC:                                     -5320.\n",
       "Df Model:                           8                                                  \n",
       "Covariance Type:            nonrobust                                                  \n",
       "=====================================================================================\n",
       "                        coef    std err          t      P>|t|      [0.025      0.975]\n",
       "-------------------------------------------------------------------------------------\n",
       "gender                0.0065      0.003      2.170      0.030       0.001       0.012\n",
       "caste                -0.0156      0.002     -8.678      0.000      -0.019      -0.012\n",
       "mathematics_marks    -0.0343      0.005     -7.600      0.000      -0.043      -0.025\n",
       "english_marks         0.1097      0.011      9.993      0.000       0.088       0.131\n",
       "science_marks        -0.0343      0.005     -7.600      0.000      -0.043      -0.025\n",
       "science_teacher       0.0103      0.001     17.125      0.000       0.009       0.011\n",
       "languages_teacher    -0.0018      0.000     -3.605      0.000      -0.003      -0.001\n",
       "guardian             -0.0060      0.002     -2.506      0.012      -0.011      -0.001\n",
       "internet              0.0299      0.004      7.381      0.000       0.022       0.038\n",
       "==============================================================================\n",
       "Omnibus:                    15163.642   Durbin-Watson:                   2.082\n",
       "Prob(Omnibus):                  0.000   Jarque-Bera (JB):           230561.842\n",
       "Skew:                           4.064   Prob(JB):                         0.00\n",
       "Kurtosis:                      18.128   Cond. No.                     1.19e+17\n",
       "==============================================================================\n",
       "\n",
       "Warnings:\n",
       "[1] Standard Errors assume that the covariance matrix of the errors is correctly specified.\n",
       "[2] The smallest eigenvalue is 8.13e-29. This might indicate that there are\n",
       "strong multicollinearity problems or that the design matrix is singular.\n",
       "\"\"\""
      ]
     },
     "execution_count": 5,
     "metadata": {},
     "output_type": "execute_result"
    }
   ],
   "source": [
    "import statsmodels.api as sm\n",
    "from sklearn.preprocessing import StandardScaler\n",
    "scale = StandardScaler()\n",
    "#this is for common range\n",
    "X = df[['gender', 'caste', 'mathematics_marks','english_marks', 'science_marks', 'science_teacher','languages_teacher', 'guardian','internet']]\n",
    "y=df['continue_drop']\n",
    "est = sm.OLS(y, X).fit()\n",
    "est.summary()"
   ]
  },
  {
   "cell_type": "code",
   "execution_count": 6,
   "metadata": {},
   "outputs": [],
   "source": [
    "#total students ,total toilets, establish yuear are multi collinear so we remove them\n",
    "import numpy as np\n",
    "from sklearn.model_selection import cross_val_score, train_test_split\n",
    "from sklearn import datasets\n",
    "from sklearn import svm\n",
    "import pandas as pd\n",
    "dat=pd.read_csv('modstudent.csv')\n",
    "dat.head()\n",
    "X = df[['gender', 'caste', 'mathematics_marks','english_marks', 'science_marks', 'science_teacher','languages_teacher', 'guardian', 'internet']]\n",
    "y=df['continue_drop']\n",
    "gx=[]\n",
    "gy=[]\n",
    "from sklearn.decomposition import PCA\n",
    "for i in range(1,10):\n",
    "    pca = PCA(n_components=i, whiten=True).fit(X)\n",
    "    X_pca = pca.transform(X)\n",
    "    gy.append(i)\n",
    "    gx.append(100*sum(pca.explained_variance_ratio_))\n"
   ]
  },
  {
   "cell_type": "code",
   "execution_count": 7,
   "metadata": {},
   "outputs": [
    {
     "data": {
      "text/plain": [
       "[<matplotlib.lines.Line2D at 0x238ecde3b48>]"
      ]
     },
     "execution_count": 7,
     "metadata": {},
     "output_type": "execute_result"
    },
    {
     "data": {
      "image/png": "[encoded data removed]",
      "text/plain": [
       "<Figure size 432x288 with 1 Axes>"
      ]
     },
     "metadata": {
      "needs_background": "light"
     },
     "output_type": "display_data"
    }
   ],
   "source": [
    "%matplotlib inline\n",
    "from pylab import *\n",
    "plt.plot(gy,gx)"
   ]
  },
  {
   "cell_type": "code",
   "execution_count": 8,
   "metadata": {},
   "outputs": [
    {
     "name": "stderr",
     "output_type": "stream",
     "text": [
      "C:\\Users\\LOKSUNDAR\\Anaconda3\\lib\\site-packages\\ipykernel_launcher.py:3: MatplotlibDeprecationWarning: Adding an axes using the same arguments as a previous axes currently reuses the earlier instance.  In a future version, a new instance will always be created and returned.  Meanwhile, this warning can be suppressed, and the future behavior ensured, by passing a unique label to each axes instance.\n",
      "  This is separate from the ipykernel package so we can avoid doing imports until\n"
     ]
    },
    {
     "data": {
      "image/png": "[encoded data removed]",
      "text/plain": [
       "<Figure size 432x288 with 1 Axes>"
      ]
     },
     "metadata": {
      "needs_background": "light"
     },
     "output_type": "display_data"
    }
   ],
   "source": [
    "#zooming\n",
    "plt.plot(gy,gx)\n",
    "axes=plt.axes()\n",
    "axes.set_ylim([94,99])\n",
    "axes.set_xlim([2,8])\n",
    "axes.grid()"
   ]
  },
  {
   "cell_type": "code",
   "execution_count": 9,
   "metadata": {},
   "outputs": [
    {
     "name": "stdout",
     "output_type": "stream",
     "text": [
      "[0.53906323 0.37227743 0.03724741 0.02122467]\n",
      "0.969812736849783\n"
     ]
    }
   ],
   "source": [
    "#from graph we selected 2 dimensions\n",
    "pca = PCA(n_components=4, whiten=True).fit(X)\n",
    "X_pca = pca.transform(X)\n",
    "print(pca.explained_variance_ratio_)\n",
    "print(sum(pca.explained_variance_ratio_))"
   ]
  },
  {
   "cell_type": "code",
   "execution_count": 10,
   "metadata": {},
   "outputs": [
    {
     "data": {
      "text/plain": [
       "array([[-1.76871012e+00,  8.17538795e-01,  9.56033742e-01,\n",
       "        -8.70253040e-01],\n",
       "       [ 5.97950066e-01, -1.32892277e-04, -3.28120732e-01,\n",
       "        -6.79716167e-01],\n",
       "       [-1.09037917e+00,  7.93727876e-03, -1.64223275e+00,\n",
       "        -7.31700337e-01],\n",
       "       ...,\n",
       "       [ 2.54667809e-01, -7.98931219e-01,  1.08294419e+00,\n",
       "         2.96186943e+00],\n",
       "       [-1.77080239e+00,  8.37358910e-01, -1.86928828e-01,\n",
       "         2.89095284e+00],\n",
       "       [ 2.60466859e-01,  2.82451258e-03, -3.43228613e-01,\n",
       "        -4.21939087e-01]])"
      ]
     },
     "execution_count": 10,
     "metadata": {},
     "output_type": "execute_result"
    }
   ],
   "source": [
    "X_pca #4D data"
   ]
  },
  {
   "cell_type": "code",
   "execution_count": 11,
   "metadata": {},
   "outputs": [
    {
     "name": "stderr",
     "output_type": "stream",
     "text": [
      "C:\\Users\\LOKSUNDAR\\Anaconda3\\lib\\site-packages\\sklearn\\externals\\six.py:31: DeprecationWarning: The module is deprecated in version 0.21 and will be removed in version 0.23 since we've dropped support for Python 2.7. Please rely on the official version of six (https://pypi.org/project/six/).\n",
      "  \"(https://pypi.org/project/six/).\", DeprecationWarning)\n"
     ]
    }
   ],
   "source": [
    "from sklearn import tree\n",
    "from sklearn.ensemble import RandomForestClassifier\n",
    "from IPython.display import Image  \n",
    "from sklearn.externals.six import StringIO  \n",
    "import pydotplus\n",
    "from sklearn.model_selection import cross_val_score\n",
    "from sklearn import metrics\n",
    "from sklearn.model_selection import ShuffleSplit\n",
    "from sklearn.model_selection import train_test_split\n",
    "X_train, X_test, y_train, y_test = train_test_split(X_pca,y,test_size=0.30)#test and train division\n",
    "from sklearn import tree\n",
    "from sklearn.ensemble import RandomForestClassifier\n",
    "from IPython.display import Image  \n",
    "from sklearn.externals.six import StringIO  \n",
    "import pydotplus\n",
    "\n",
    "clf = tree.DecisionTreeClassifier()\n",
    "clf = clf.fit(X_pca,y)\n"
   ]
  },
  {
   "cell_type": "code",
   "execution_count": 12,
   "metadata": {},
   "outputs": [
    {
     "data": {
      "text/plain": [
       "1.0"
      ]
     },
     "execution_count": 12,
     "metadata": {},
     "output_type": "execute_result"
    }
   ],
   "source": [
    "clf.score(X_test,y_test)"
   ]
  },
  {
   "cell_type": "code",
   "execution_count": 13,
   "metadata": {},
   "outputs": [
    {
     "data": {
      "text/plain": [
       "0    5420\n",
       "1     209\n",
       "Name: continue_drop, dtype: int64"
      ]
     },
     "execution_count": 13,
     "metadata": {},
     "output_type": "execute_result"
    }
   ],
   "source": [
    "y_test.value_counts()"
   ]
  },
  {
   "cell_type": "code",
   "execution_count": 14,
   "metadata": {},
   "outputs": [
    {
     "data": {
      "text/plain": [
       "(array([0, 1], dtype=int64), array([5420,  209], dtype=int64))"
      ]
     },
     "execution_count": 14,
     "metadata": {},
     "output_type": "execute_result"
    }
   ],
   "source": [
    "narr=[]\n",
    "narr=clf.predict(X_test)\n",
    "np.unique(narr,return_counts=True)"
   ]
  },
  {
   "cell_type": "code",
   "execution_count": 15,
   "metadata": {},
   "outputs": [
    {
     "name": "stdout",
     "output_type": "stream",
     "text": [
      "Accuracy: 1.00 (+/- 0.00)\n"
     ]
    }
   ],
   "source": [
    "n_samples = X_pca.shape[0]\n",
    "cv = ShuffleSplit(n_splits=5, test_size=0.5, random_state=0)\n",
    "scores = cross_val_score(clf, X_pca, y, cv=5)#5 splits\n",
    "print(\"Accuracy: %0.2f (+/- %0.2f)\" % (scores.mean(), scores.std() * 2))"
   ]
  },
  {
   "cell_type": "code",
   "execution_count": null,
   "metadata": {},
   "outputs": [],
   "source": []
  }
 ],
 "metadata": {
  "kernelspec": {
   "display_name": "Python 3",
   "language": "python",
   "name": "python3"
  },
  "language_info": {
   "codemirror_mode": {
    "name": "ipython",
    "version": 3
   },
   "file_extension": ".py",
   "mimetype": "text/x-python",
   "name": "python",
   "nbconvert_exporter": "python",
   "pygments_lexer": "ipython3",
   "version": "3.7.4"
  }
 },
 "nbformat": 4,
 "nbformat_minor": 2
}
